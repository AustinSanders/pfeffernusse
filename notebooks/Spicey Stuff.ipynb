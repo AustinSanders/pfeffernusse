{
 "cells": [
  {
   "cell_type": "code",
   "execution_count": 6,
   "metadata": {},
   "outputs": [],
   "source": [
    "# from plio.io.io_gdal import GeoDataset \n",
    "import pvl\n",
    "from glob import glob \n",
    "import spiceypy as spice\n",
    "\n",
    "import os \n",
    "import json"
   ]
  },
  {
   "cell_type": "code",
   "execution_count": 10,
   "metadata": {},
   "outputs": [
    {
     "name": "stdout",
     "output_type": "stream",
     "text": [
      "6944 3089\n"
     ]
    }
   ],
   "source": [
    "import zlib\n",
    "import base64\n",
    "\n",
    "\n",
    "ss = ''\n",
    "with open('/data/spice/EN1007907102M.IMG.lbl') as f:\n",
    "    ss = ''.join(f.readlines())\n",
    "    \n",
    "ssc = zlib.compress(ss.lower().encode('utf-8'))\n",
    "bites = base64.encodebytes(ssc)\n",
    "print(len(ss), len(bites.decode('ascii')))"
   ]
  },
  {
   "cell_type": "code",
   "execution_count": 58,
   "metadata": {
    "scrolled": false
   },
   "outputs": [],
   "source": [
    "import requests\n",
    "r = requests.post(\"http://localhost:28080/v1/pds/\", json={'label' : ss})"
   ]
  },
  {
   "cell_type": "code",
   "execution_count": 59,
   "metadata": {
    "scrolled": false
   },
   "outputs": [
    {
     "data": {
      "text/plain": [
       "{'center_ephemeris_time': 418855170.49664956,\n",
       " 'detector_center': {'line': 512.5, 'sample': 512.5},\n",
       " 'detector_line_summing': 1.0,\n",
       " 'detector_sample_summing': 1.0,\n",
       " 'focal2pixel_lines': [0.0, 0.0, 71.42857143],\n",
       " 'focal2pixel_samples': [0.0, 71.42857143, 0.0],\n",
       " 'focal_length_model': {'focal_epsilon': 0.5,\n",
       "  'focal_length': 549.2347965210602},\n",
       " 'image_lines': 1024.0,\n",
       " 'image_samples': 1024.0,\n",
       " 'interpolation_method': 'lagrange',\n",
       " 'name_model': 'USGS_ASTRO_FRAME_SENSOR_MODEL',\n",
       " 'name_platform': 'MESSENGER',\n",
       " 'name_sensor': 'MSGR_MDIS_NAC',\n",
       " 'optical_distortion': {'transverse': {'x': [0.0,\n",
       "    1.001854269623802,\n",
       "    0.0,\n",
       "    0.0,\n",
       "    -0.0005094440474941111,\n",
       "    0.0,\n",
       "    1.004010471468856e-05,\n",
       "    0.0,\n",
       "    1.004010471468856e-05,\n",
       "    0.0],\n",
       "   'y': [0.0,\n",
       "    0.0,\n",
       "    1.0,\n",
       "    0.0009060010594996751,\n",
       "    0.0,\n",
       "    0.0003574842626620758,\n",
       "    0.0,\n",
       "    1.004010471468856e-05,\n",
       "    0.0,\n",
       "    1.004010471468856e-05]}},\n",
       " 'radii': {'semimajor': 2439.4, 'semiminor': 2439.4, 'unit': 'km'},\n",
       " 'reference_height': {'maxheight': 100.0, 'minheight': 0.0, 'unit': 'm'},\n",
       " 'sensor_orientation': {'quaternions': [[-0.790596727608452,\n",
       "    -0.43591126998914737,\n",
       "    0.16042616468038698,\n",
       "    0.3990007828027379]]},\n",
       " 'sensor_position': {'positions': [[1728341.719222946,\n",
       "    -2088394.6014044173,\n",
       "    2082887.326208708]],\n",
       "  'unit': 'm',\n",
       "  'velocities': [[1997.9873758112724,\n",
       "    -1800.5884313973156,\n",
       "    -1674.7611323574056]]},\n",
       " 'starting_detector_line': 1.0,\n",
       " 'starting_detector_sample': 9.0,\n",
       " 'starting_ephemeris_time': 418855170.48464954,\n",
       " 'sun_position': {'positions': [[-31640702.28015173,\n",
       "    -60638093.7858413,\n",
       "    -38731.10454828665,\n",
       "    -38.19112402241562]],\n",
       "  'unit': 'm',\n",
       "  'velocities': [[-38.19112402241562,\n",
       "    24.381841807718683,\n",
       "    -0.00486097048287637]]}}"
      ]
     },
     "execution_count": 59,
     "metadata": {},
     "output_type": "execute_result"
    }
   ],
   "source": [
    "r.json()"
   ]
  },
  {
   "cell_type": "code",
   "execution_count": 27,
   "metadata": {},
   "outputs": [
    {
     "ename": "JSONDecodeError",
     "evalue": "Expecting value: line 1 column 1 (char 0)",
     "output_type": "error",
     "traceback": [
      "\u001b[0;31m---------------------------------------------------------------------------\u001b[0m",
      "\u001b[0;31mJSONDecodeError\u001b[0m                           Traceback (most recent call last)",
      "\u001b[0;32m<ipython-input-27-5640976b8e63>\u001b[0m in \u001b[0;36m<module>\u001b[0;34m()\u001b[0m\n\u001b[0;32m----> 1\u001b[0;31m \u001b[0mjson\u001b[0m\u001b[0;34m.\u001b[0m\u001b[0mdumps\u001b[0m\u001b[0;34m(\u001b[0m\u001b[0mr\u001b[0m\u001b[0;34m.\u001b[0m\u001b[0mjson\u001b[0m\u001b[0;34m(\u001b[0m\u001b[0;34m)\u001b[0m\u001b[0;34m)\u001b[0m\u001b[0;34m\u001b[0m\u001b[0m\n\u001b[0m",
      "\u001b[0;32m~/anaconda3/envs/spice/lib/python3.6/site-packages/requests/models.py\u001b[0m in \u001b[0;36mjson\u001b[0;34m(self, **kwargs)\u001b[0m\n\u001b[1;32m    894\u001b[0m                     \u001b[0;31m# used.\u001b[0m\u001b[0;34m\u001b[0m\u001b[0;34m\u001b[0m\u001b[0m\n\u001b[1;32m    895\u001b[0m                     \u001b[0;32mpass\u001b[0m\u001b[0;34m\u001b[0m\u001b[0m\n\u001b[0;32m--> 896\u001b[0;31m         \u001b[0;32mreturn\u001b[0m \u001b[0mcomplexjson\u001b[0m\u001b[0;34m.\u001b[0m\u001b[0mloads\u001b[0m\u001b[0;34m(\u001b[0m\u001b[0mself\u001b[0m\u001b[0;34m.\u001b[0m\u001b[0mtext\u001b[0m\u001b[0;34m,\u001b[0m \u001b[0;34m**\u001b[0m\u001b[0mkwargs\u001b[0m\u001b[0;34m)\u001b[0m\u001b[0;34m\u001b[0m\u001b[0m\n\u001b[0m\u001b[1;32m    897\u001b[0m \u001b[0;34m\u001b[0m\u001b[0m\n\u001b[1;32m    898\u001b[0m     \u001b[0;34m@\u001b[0m\u001b[0mproperty\u001b[0m\u001b[0;34m\u001b[0m\u001b[0m\n",
      "\u001b[0;32m~/anaconda3/envs/spice/lib/python3.6/json/__init__.py\u001b[0m in \u001b[0;36mloads\u001b[0;34m(s, encoding, cls, object_hook, parse_float, parse_int, parse_constant, object_pairs_hook, **kw)\u001b[0m\n\u001b[1;32m    352\u001b[0m             \u001b[0mparse_int\u001b[0m \u001b[0;32mis\u001b[0m \u001b[0;32mNone\u001b[0m \u001b[0;32mand\u001b[0m \u001b[0mparse_float\u001b[0m \u001b[0;32mis\u001b[0m \u001b[0;32mNone\u001b[0m \u001b[0;32mand\u001b[0m\u001b[0;34m\u001b[0m\u001b[0m\n\u001b[1;32m    353\u001b[0m             parse_constant is None and object_pairs_hook is None and not kw):\n\u001b[0;32m--> 354\u001b[0;31m         \u001b[0;32mreturn\u001b[0m \u001b[0m_default_decoder\u001b[0m\u001b[0;34m.\u001b[0m\u001b[0mdecode\u001b[0m\u001b[0;34m(\u001b[0m\u001b[0ms\u001b[0m\u001b[0;34m)\u001b[0m\u001b[0;34m\u001b[0m\u001b[0m\n\u001b[0m\u001b[1;32m    355\u001b[0m     \u001b[0;32mif\u001b[0m \u001b[0mcls\u001b[0m \u001b[0;32mis\u001b[0m \u001b[0;32mNone\u001b[0m\u001b[0;34m:\u001b[0m\u001b[0;34m\u001b[0m\u001b[0m\n\u001b[1;32m    356\u001b[0m         \u001b[0mcls\u001b[0m \u001b[0;34m=\u001b[0m \u001b[0mJSONDecoder\u001b[0m\u001b[0;34m\u001b[0m\u001b[0m\n",
      "\u001b[0;32m~/anaconda3/envs/spice/lib/python3.6/json/decoder.py\u001b[0m in \u001b[0;36mdecode\u001b[0;34m(self, s, _w)\u001b[0m\n\u001b[1;32m    337\u001b[0m \u001b[0;34m\u001b[0m\u001b[0m\n\u001b[1;32m    338\u001b[0m         \"\"\"\n\u001b[0;32m--> 339\u001b[0;31m         \u001b[0mobj\u001b[0m\u001b[0;34m,\u001b[0m \u001b[0mend\u001b[0m \u001b[0;34m=\u001b[0m \u001b[0mself\u001b[0m\u001b[0;34m.\u001b[0m\u001b[0mraw_decode\u001b[0m\u001b[0;34m(\u001b[0m\u001b[0ms\u001b[0m\u001b[0;34m,\u001b[0m \u001b[0midx\u001b[0m\u001b[0;34m=\u001b[0m\u001b[0m_w\u001b[0m\u001b[0;34m(\u001b[0m\u001b[0ms\u001b[0m\u001b[0;34m,\u001b[0m \u001b[0;36m0\u001b[0m\u001b[0;34m)\u001b[0m\u001b[0;34m.\u001b[0m\u001b[0mend\u001b[0m\u001b[0;34m(\u001b[0m\u001b[0;34m)\u001b[0m\u001b[0;34m)\u001b[0m\u001b[0;34m\u001b[0m\u001b[0m\n\u001b[0m\u001b[1;32m    340\u001b[0m         \u001b[0mend\u001b[0m \u001b[0;34m=\u001b[0m \u001b[0m_w\u001b[0m\u001b[0;34m(\u001b[0m\u001b[0ms\u001b[0m\u001b[0;34m,\u001b[0m \u001b[0mend\u001b[0m\u001b[0;34m)\u001b[0m\u001b[0;34m.\u001b[0m\u001b[0mend\u001b[0m\u001b[0;34m(\u001b[0m\u001b[0;34m)\u001b[0m\u001b[0;34m\u001b[0m\u001b[0m\n\u001b[1;32m    341\u001b[0m         \u001b[0;32mif\u001b[0m \u001b[0mend\u001b[0m \u001b[0;34m!=\u001b[0m \u001b[0mlen\u001b[0m\u001b[0;34m(\u001b[0m\u001b[0ms\u001b[0m\u001b[0;34m)\u001b[0m\u001b[0;34m:\u001b[0m\u001b[0;34m\u001b[0m\u001b[0m\n",
      "\u001b[0;32m~/anaconda3/envs/spice/lib/python3.6/json/decoder.py\u001b[0m in \u001b[0;36mraw_decode\u001b[0;34m(self, s, idx)\u001b[0m\n\u001b[1;32m    355\u001b[0m             \u001b[0mobj\u001b[0m\u001b[0;34m,\u001b[0m \u001b[0mend\u001b[0m \u001b[0;34m=\u001b[0m \u001b[0mself\u001b[0m\u001b[0;34m.\u001b[0m\u001b[0mscan_once\u001b[0m\u001b[0;34m(\u001b[0m\u001b[0ms\u001b[0m\u001b[0;34m,\u001b[0m \u001b[0midx\u001b[0m\u001b[0;34m)\u001b[0m\u001b[0;34m\u001b[0m\u001b[0m\n\u001b[1;32m    356\u001b[0m         \u001b[0;32mexcept\u001b[0m \u001b[0mStopIteration\u001b[0m \u001b[0;32mas\u001b[0m \u001b[0merr\u001b[0m\u001b[0;34m:\u001b[0m\u001b[0;34m\u001b[0m\u001b[0m\n\u001b[0;32m--> 357\u001b[0;31m             \u001b[0;32mraise\u001b[0m \u001b[0mJSONDecodeError\u001b[0m\u001b[0;34m(\u001b[0m\u001b[0;34m\"Expecting value\"\u001b[0m\u001b[0;34m,\u001b[0m \u001b[0ms\u001b[0m\u001b[0;34m,\u001b[0m \u001b[0merr\u001b[0m\u001b[0;34m.\u001b[0m\u001b[0mvalue\u001b[0m\u001b[0;34m)\u001b[0m \u001b[0;32mfrom\u001b[0m \u001b[0;32mNone\u001b[0m\u001b[0;34m\u001b[0m\u001b[0m\n\u001b[0m\u001b[1;32m    358\u001b[0m         \u001b[0;32mreturn\u001b[0m \u001b[0mobj\u001b[0m\u001b[0;34m,\u001b[0m \u001b[0mend\u001b[0m\u001b[0;34m\u001b[0m\u001b[0m\n",
      "\u001b[0;31mJSONDecodeError\u001b[0m: Expecting value: line 1 column 1 (char 0)"
     ]
    }
   ],
   "source": [
    "json.dumps(r.json())"
   ]
  },
  {
   "cell_type": "code",
   "execution_count": 56,
   "metadata": {},
   "outputs": [
    {
     "data": {
      "text/plain": [
       "['center_ephemeris_time',\n",
       " 'dt_ephemeris',\n",
       " 'focal2pixel_lines',\n",
       " 'focal2pixel_samples',\n",
       " 'focal_length_model_focal_length',\n",
       " 'focal_length_model_focal_length_epsilon',\n",
       " 'image_lines',\n",
       " 'image_samples',\n",
       " 'interpolation_method',\n",
       " 'number_of_ephemerides',\n",
       " 'optical_distortion_x',\n",
       " 'optical_distortion_y',\n",
       " 'radii_semimajor',\n",
       " 'radii_semiminor',\n",
       " 'reference_height_maxheight',\n",
       " 'reference_height_minheight',\n",
       " 'reference_height_unit',\n",
       " 'sensor_location_unit',\n",
       " 'sensor_location_x',\n",
       " 'sensor_location_y',\n",
       " 'sensor_location_z',\n",
       " 'sensor_orientation',\n",
       " 'sensor_velocity_unit',\n",
       " 'sensor_velocity_x',\n",
       " 'sensor_velocity_y',\n",
       " 'sensor_velocity_z',\n",
       " 'starting_detector_line',\n",
       " 'starting_detector_sample',\n",
       " 'starting_ephemeris_time',\n",
       " 'sun_position_x',\n",
       " 'sun_position_y',\n",
       " 'sun_position_z',\n",
       " 'sun_velocity_x',\n",
       " 'sun_velocity_y',\n",
       " 'sun_velocity_z']"
      ]
     },
     "execution_count": 56,
     "metadata": {},
     "output_type": "execute_result"
    }
   ],
   "source": [
    "import collections\n",
    "def flatten(d, parent_key='', sep='_'):\n",
    "    items = []\n",
    "    for k, v in d.items():\n",
    "        new_key = parent_key + sep + k if parent_key else k\n",
    "        if isinstance(v, collections.MutableMapping):\n",
    "            items.extend(flatten(v, new_key, sep=sep).items())\n",
    "        else:\n",
    "            items.append((new_key, v))\n",
    "    return dict(items)\n",
    "\n",
    "list(flatten(r.json()).keys())"
   ]
  },
  {
   "cell_type": "code",
   "execution_count": 2,
   "metadata": {
    "scrolled": false
   },
   "outputs": [
    {
     "data": {
      "text/plain": [
       "PVLModule([\n",
       "  ('PDS_VERSION_ID', 'PDS3')\n",
       "  ('FILE_NAME', 'K02_054171_2182_XI_38N336W.IMG')\n",
       "  ('RECORD_TYPE', 'FIXED_LENGTH')\n",
       "  ('RECORD_BYTES', 2528)\n",
       "  ('FILE_RECORDS', 10241)\n",
       "  ('LABEL_RECORDS', 1)\n",
       "  ('^IMAGE', 2)\n",
       "  ('SPACECRAFT_NAME', 'MARS_RECONNAISSANCE_ORBITER')\n",
       "  ('INSTRUMENT_NAME', 'CONTEXT CAMERA')\n",
       "  ('INSTRUMENT_HOST_NAME', 'MARS RECONNAISSANCE ORBITER')\n",
       "  ('MISSION_PHASE_NAME', 'ESP')\n",
       "  ('TARGET_NAME', 'MARS')\n",
       "  ('INSTRUMENT_ID', 'CTX')\n",
       "  ('PRODUCER_ID', 'MRO_CTX_TEAM')\n",
       "  ('DATA_SET_ID', 'MRO-M-CTX-2-EDR-L0-V1.0')\n",
       "  ('PRODUCT_CREATION_TIME', datetime.datetime(2018, 7, 6, 19, 28, 35))\n",
       "  ('SOFTWARE_NAME', 'makepds05 $Revision: 1.16 $')\n",
       "  ('UPLOAD_ID', 'UNK')\n",
       "  ('ORIGINAL_PRODUCT_ID', '4A_04_1113018400')\n",
       "  ('PRODUCT_ID', 'K02_054171_2182_XI_38N336W')\n",
       "  ('START_TIME', datetime.datetime(2018, 2, 15, 13, 10, 23, 896000))\n",
       "  ('STOP_TIME', datetime.datetime(2018, 2, 15, 13, 11, 2, 476000))\n",
       "  ('SPACECRAFT_CLOCK_START_COUNT', '1203167471:192')\n",
       "  ('SPACECRAFT_CLOCK_STOP_COUNT', 'N/A')\n",
       "  ('FOCAL_PLANE_TEMPERATURE', Units(value=293.9, units='K'))\n",
       "  ('SAMPLE_BIT_MODE_ID', 'SQROOT')\n",
       "  ('OFFSET_MODE_ID', '196/227/219')\n",
       "  ('LINE_EXPOSURE_DURATION', Units(value=1.884, units='MSEC'))\n",
       "  ('SAMPLING_FACTOR', 2)\n",
       "  ('SAMPLE_FIRST_PIXEL', 0)\n",
       "  ('RATIONALE_DESC', 'North Arabia Terra monitoring site')\n",
       "  ('DATA_QUALITY_DESC', 'OK')\n",
       "  ('ORBIT_NUMBER', 54171)\n",
       "  ('IMAGE',\n",
       "   {'CHECKSUM': 3047922055,\n",
       "    'LINES': 10240,\n",
       "    'LINE_PREFIX_BYTES': 0,\n",
       "    'LINE_SAMPLES': 2528,\n",
       "    'LINE_SUFFIX_BYTES': 0,\n",
       "    'SAMPLE_BITS': 8,\n",
       "    'SAMPLE_BIT_MASK': 255,\n",
       "    'SAMPLE_TYPE': 'UNSIGNED_INTEGER'})\n",
       "])"
      ]
     },
     "execution_count": 2,
     "metadata": {},
     "output_type": "execute_result"
    }
   ],
   "source": [
    "import pvl\n",
    "ss = \"\"\"\n",
    "PDS_VERSION_ID = PDS3\n",
    "FILE_NAME = \"K02_054171_2182_XI_38N336W.IMG\"\n",
    "RECORD_TYPE = FIXED_LENGTH\n",
    "RECORD_BYTES = 2528\n",
    "FILE_RECORDS = 10241\n",
    "LABEL_RECORDS = 1\n",
    "^IMAGE = 2\n",
    "SPACECRAFT_NAME = MARS_RECONNAISSANCE_ORBITER\n",
    "INSTRUMENT_NAME = \"CONTEXT CAMERA\"\n",
    "INSTRUMENT_HOST_NAME = \"MARS RECONNAISSANCE ORBITER\"\n",
    "MISSION_PHASE_NAME = \"ESP\"\n",
    "TARGET_NAME = MARS\n",
    "INSTRUMENT_ID = CTX\n",
    "PRODUCER_ID = MRO_CTX_TEAM\n",
    "DATA_SET_ID = \"MRO-M-CTX-2-EDR-L0-V1.0\"\n",
    "PRODUCT_CREATION_TIME = 2018-07-06T19:28:35\n",
    "SOFTWARE_NAME = \"makepds05 $Revision: 1.16 $\"\n",
    "UPLOAD_ID = \"UNK\"\n",
    "ORIGINAL_PRODUCT_ID = \"4A_04_1113018400\"\n",
    "PRODUCT_ID = \"K02_054171_2182_XI_38N336W\"\n",
    "START_TIME = 2018-02-15T13:10:23.896\n",
    "STOP_TIME = 2018-02-15T13:11:02.476\n",
    "SPACECRAFT_CLOCK_START_COUNT = \"1203167471:192\"\n",
    "SPACECRAFT_CLOCK_STOP_COUNT = \"N/A\"\n",
    "FOCAL_PLANE_TEMPERATURE = 293.9 <K>\n",
    "SAMPLE_BIT_MODE_ID = \"SQROOT\"\n",
    "OFFSET_MODE_ID = \"196/227/219\"\n",
    "LINE_EXPOSURE_DURATION = 1.884 <MSEC>\n",
    "SAMPLING_FACTOR = 2\n",
    "SAMPLE_FIRST_PIXEL = 0\n",
    "RATIONALE_DESC = \"North Arabia Terra monitoring site\"\n",
    "DATA_QUALITY_DESC = \"OK\"\n",
    "ORBIT_NUMBER = 54171\n",
    "OBJECT = IMAGE\n",
    "LINES = 10240\n",
    "LINE_SAMPLES = 2528\n",
    "LINE_PREFIX_BYTES = 0\n",
    "LINE_SUFFIX_BYTES = 0\n",
    "SAMPLE_TYPE = UNSIGNED_INTEGER\n",
    "SAMPLE_BITS = 8\n",
    "SAMPLE_BIT_MASK = 2#11111111#\n",
    "CHECKSUM = 16#B5AB9987#\n",
    "END_OBJECT = IMAGE\n",
    "END\n",
    "\n",
    "\"\"\"\n",
    "label = pvl.loads(ss)\n",
    "label"
   ]
  },
  {
   "cell_type": "code",
   "execution_count": 62,
   "metadata": {},
   "outputs": [],
   "source": [
    "lroc_label = \"\"\"\n",
    "PDS_VERSION_ID                     = PDS3\n",
    "\n",
    "/*FILE CHARACTERISTICS*/\n",
    "RECORD_TYPE                        = FIXED_LENGTH\n",
    "RECORD_BYTES                       = 5064      \n",
    "FILE_RECORDS                       = 13313     \n",
    "LABEL_RECORDS                      = 1         \n",
    "^IMAGE                             = 2         \n",
    "\n",
    "/*DATA IDENTIFICATION*/\n",
    "DATA_SET_ID                        = \"LRO-L-LROC-2-EDR-V1.0\"\n",
    "ORIGINAL_PRODUCT_ID                = nacl0002fc60\n",
    "PRODUCT_ID                         = M128963531LE\n",
    "MISSION_NAME                       = \"LUNAR RECONNAISSANCE ORBITER\"\n",
    "MISSION_PHASE_NAME                 = \"NOMINAL MISSION\"\n",
    "INSTRUMENT_HOST_NAME               = \"LUNAR RECONNAISSANCE ORBITER\"\n",
    "INSTRUMENT_HOST_ID                 = LRO\n",
    "INSTRUMENT_NAME                    = \"LUNAR RECONNAISSANCE ORBITER CAMERA\"\n",
    "INSTRUMENT_ID                      = LROC\n",
    "LRO:PREROLL_TIME                   = 2010-05-20T02:57:44.373\n",
    "START_TIME                         = 2010-05-20T02:57:44.720\n",
    "STOP_TIME                          = 2010-05-20T02:57:49.235\n",
    "LRO:SPACECRAFT_CLOCK_PREROLL_COUNT = \"1/296017064:22937\"\n",
    "SPACECRAFT_CLOCK_START_COUNT       = \"1/296017064:45694\"\n",
    "SPACECRAFT_CLOCK_STOP_COUNT        = \"1/296017069:13866\"\n",
    "ORBIT_NUMBER                       = 4138\n",
    "PRODUCER_ID                        = LRO_LROC_TEAM\n",
    "PRODUCT_CREATION_TIME              = 2013-09-16T19:57:12\n",
    "PRODUCER_INSTITUTION_NAME          = \"ARIZONA STATE UNIVERSITY\"\n",
    "PRODUCT_TYPE                       = EDR\n",
    "PRODUCT_VERSION_ID                 = \"v1.8\"\n",
    "UPLOAD_ID                          = \"SC_2010140_0000_A_V01.txt\"\n",
    "\n",
    "/*DATA DESCRIPTION*/\n",
    "TARGET_NAME                        = \"MOON\"\n",
    "RATIONALE_DESC                     = \"TARGET OF OPPORTUNITY\"\n",
    "FRAME_ID                           = LEFT\n",
    "DATA_QUALITY_ID                    = \"0\"\n",
    "DATA_QUALITY_DESC                  = \"The DATA_QUALITY_ID is set to an 8-bit\n",
    "   value that encodes the following data quality information for the \n",
    "   observation. For each bit  a value of 0 means FALSE and a value of 1 means \n",
    "   TRUE. More information about the data quality ID can be found in the LROC\n",
    "   EDR/CDR SIS, section 3.3 'Label and Header Descriptions'.\n",
    "       Bit 1: Temperature of focal plane array is out of bounds.\n",
    "       Bit 2: Threshold for saturated pixels is reached.\n",
    "       Bit 3: Threshold for under-saturated pixels is reached.\n",
    "       Bit 4: Observation is missing telemetry packets.\n",
    "       Bit 5: SPICE information is bad or missing.\n",
    "       Bit 6: Observation or housekeeping information is bad or missing.\n",
    "       Bit 7: Spare.\n",
    "       Bit 8: Spare.\"\n",
    "\n",
    "/*ENVIRONMENT*/\n",
    "LRO:TEMPERATURE_SCS                = 4.51 <degC>\n",
    "LRO:TEMPERATURE_FPA                = 17.88 <degC>\n",
    "LRO:TEMPERATURE_FPGA               = -12.33 <degC>\n",
    "LRO:TEMPERATURE_TELESCOPE          = 5.91 <degC>\n",
    "LRO:TEMPERATURE_SCS_RAW            = 2740\n",
    "LRO:TEMPERATURE_FPA_RAW            = 2107\n",
    "LRO:TEMPERATURE_FPGA_RAW           = 3418\n",
    "LRO:TEMPERATURE_TELESCOPE_RAW      = 2675\n",
    "\n",
    "/*IMAGING PARAMETERS*/\n",
    "CROSSTRACK_SUMMING                 = 1\n",
    "BANDWIDTH                          = 300 <nm>\n",
    "CENTER_FILTER_WAVELENGTH           = 600 <nm>\n",
    "LINE_EXPOSURE_DURATION             = 0.337600 <ms>\n",
    "LRO:LINE_EXPOSURE_CODE             = 0\n",
    "LRO:DAC_RESET_LEVEL                = 198\n",
    "LRO:CHANNEL_A_OFFSET               = 60\n",
    "LRO:CHANNEL_B_OFFSET               = 123\n",
    "LRO:COMPAND_CODE                   = 3\n",
    "LRO:LINE_CODE                      = 13\n",
    "LRO:BTERM                          = (0,16,69,103,128)\n",
    "LRO:MTERM                          = (0.5,0.25,0.125,0.0625,0.03125)\n",
    "LRO:XTERM                          = (0,64,424,536,800)\n",
    "LRO:COMPRESSION_FLAG               = 1\n",
    "LRO:MODE                           = 7\n",
    "\n",
    "/*DATA OBJECT*/\n",
    "OBJECT                             = IMAGE\n",
    "    LINES                          = 13312\n",
    "    LINE_SAMPLES                   = 5064\n",
    "    SAMPLE_BITS                    = 8\n",
    "    SAMPLE_TYPE                    = LSB_INTEGER\n",
    "    UNIT                           = \"RAW_INSTRUMENT_COUNT\"\n",
    "    MD5_CHECKSUM                   = \"0fe91f4b2e93083ee0093e7c8d05f3bc\"\n",
    "END_OBJECT                         = IMAGE\n",
    "END\n",
    "\"\"\"\n",
    "label = pvl.loads(lroc_label)"
   ]
  },
  {
   "cell_type": "code",
   "execution_count": null,
   "metadata": {},
   "outputs": [],
   "source": []
  },
  {
   "cell_type": "code",
   "execution_count": null,
   "metadata": {},
   "outputs": [],
   "source": []
  },
  {
   "cell_type": "code",
   "execution_count": null,
   "metadata": {
    "scrolled": false
   },
   "outputs": [],
   "source": []
  },
  {
   "cell_type": "code",
   "execution_count": null,
   "metadata": {},
   "outputs": [],
   "source": []
  },
  {
   "cell_type": "code",
   "execution_count": null,
   "metadata": {},
   "outputs": [],
   "source": []
  },
  {
   "cell_type": "code",
   "execution_count": null,
   "metadata": {
    "scrolled": false
   },
   "outputs": [],
   "source": []
  },
  {
   "cell_type": "code",
   "execution_count": null,
   "metadata": {},
   "outputs": [],
   "source": []
  },
  {
   "cell_type": "code",
   "execution_count": 64,
   "metadata": {
    "scrolled": false
   },
   "outputs": [
    {
     "data": {
      "text/plain": [
       "['ApplyLightTimeCorrection',\n",
       " 'CenterEphemerisTime',\n",
       " 'Coefficients<anonymousField>',\n",
       " 'DetectorCenter<anonymous>',\n",
       " 'DetectorLineSumming',\n",
       " 'DetectorSampleSumming',\n",
       " 'DtEphemeris',\n",
       " 'DtQuaternion',\n",
       " 'Focal2pixelLines<anonymousField>',\n",
       " 'Focal2pixelSamples<anonymousField>',\n",
       " 'FocalEpsilon',\n",
       " 'FocalLength',\n",
       " 'FocalLengthModel<anonymous>',\n",
       " 'ISD200',\n",
       " 'ImageLines',\n",
       " 'ImageSamples',\n",
       " 'InterpolationMethod',\n",
       " 'Key',\n",
       " 'Label',\n",
       " 'Line',\n",
       " 'LineScanRate<anonymousField>',\n",
       " 'Maxheight',\n",
       " 'Minheight',\n",
       " 'NumberOfEphemerides',\n",
       " 'NumberOfQuaternions',\n",
       " 'OpticalDistortion',\n",
       " 'Quaternion',\n",
       " 'Radial<anonymous>',\n",
       " 'Radii<anonymous>',\n",
       " 'ReferenceHeight<anonymous>',\n",
       " 'RequestISD',\n",
       " 'Sample',\n",
       " 'Semimajor',\n",
       " 'Semiminor',\n",
       " 'StartingDetectorLine',\n",
       " 'StartingDetectorSample',\n",
       " 'StartingEphemerisTime',\n",
       " 'T0Ephemeris',\n",
       " 'T0Quaternion',\n",
       " 'Test',\n",
       " 'Transverse<anonymous>',\n",
       " 'X',\n",
       " 'X<anonymousField>',\n",
       " 'XYZ',\n",
       " 'Y',\n",
       " 'Y<anonymousField>',\n",
       " 'Z']"
      ]
     },
     "execution_count": 64,
     "metadata": {},
     "output_type": "execute_result"
    }
   ],
   "source": [
    "isd_object = o.build_classes()\n",
    "dir(isd_object)"
   ]
  },
  {
   "cell_type": "code",
   "execution_count": 71,
   "metadata": {},
   "outputs": [],
   "source": [
    "isd_object.ImageLines = 5\n",
    "isd_object.OpticalDistortion "
   ]
  },
  {
   "cell_type": "code",
   "execution_count": 105,
   "metadata": {},
   "outputs": [],
   "source": [
    "from faker_schema.faker_schema import FakerSchema"
   ]
  },
  {
   "cell_type": "code",
   "execution_count": 106,
   "metadata": {},
   "outputs": [
    {
     "ename": "AttributeError",
     "evalue": "'Generator' object has no attribute '#/definitions/ISD200'",
     "output_type": "error",
     "traceback": [
      "\u001b[0;31m---------------------\u001b[0m",
      "\u001b[0;31mAttributeError\u001b[0mTraceback (most recent call last)",
      "\u001b[0;32m<ipython-input-106-5eaf960544ad>\u001b[0m in \u001b[0;36m<module>\u001b[0;34m()\u001b[0m\n\u001b[1;32m      1\u001b[0m \u001b[0mfaker\u001b[0m \u001b[0;34m=\u001b[0m \u001b[0mFakerSchema\u001b[0m\u001b[0;34m(\u001b[0m\u001b[0;34m)\u001b[0m\u001b[0;34m\u001b[0m\u001b[0m\n\u001b[0;32m----> 2\u001b[0;31m \u001b[0mdata\u001b[0m \u001b[0;34m=\u001b[0m \u001b[0mfaker\u001b[0m\u001b[0;34m.\u001b[0m\u001b[0mgenerate_fake\u001b[0m\u001b[0;34m(\u001b[0m\u001b[0mjson\u001b[0m\u001b[0;34m.\u001b[0m\u001b[0mload\u001b[0m\u001b[0;34m(\u001b[0m\u001b[0mopen\u001b[0m\u001b[0;34m(\u001b[0m\u001b[0;34m'.test.json'\u001b[0m\u001b[0;34m)\u001b[0m\u001b[0;34m)\u001b[0m\u001b[0;34m)\u001b[0m\u001b[0;34m\u001b[0m\u001b[0m\n\u001b[0m",
      "\u001b[0;32m~/anaconda3/envs/spice/lib/python3.6/site-packages/faker_schema/faker_schema.py\u001b[0m in \u001b[0;36mgenerate_fake\u001b[0;34m(self, schema, iterations)\u001b[0m\n\u001b[1;32m      8\u001b[0m \u001b[0;34m\u001b[0m\u001b[0m\n\u001b[1;32m      9\u001b[0m     \u001b[0;32mdef\u001b[0m \u001b[0mgenerate_fake\u001b[0m\u001b[0;34m(\u001b[0m\u001b[0mself\u001b[0m\u001b[0;34m,\u001b[0m \u001b[0mschema\u001b[0m\u001b[0;34m,\u001b[0m \u001b[0miterations\u001b[0m\u001b[0;34m=\u001b[0m\u001b[0;36m1\u001b[0m\u001b[0;34m)\u001b[0m\u001b[0;34m:\u001b[0m\u001b[0;34m\u001b[0m\u001b[0m\n\u001b[0;32m---> 10\u001b[0;31m         \u001b[0mresult\u001b[0m \u001b[0;34m=\u001b[0m \u001b[0;34m[\u001b[0m\u001b[0mself\u001b[0m\u001b[0;34m.\u001b[0m\u001b[0m_generate_one_fake\u001b[0m\u001b[0;34m(\u001b[0m\u001b[0mschema\u001b[0m\u001b[0;34m)\u001b[0m \u001b[0;32mfor\u001b[0m \u001b[0m_\u001b[0m \u001b[0;32min\u001b[0m \u001b[0mrange\u001b[0m\u001b[0;34m(\u001b[0m\u001b[0miterations\u001b[0m\u001b[0;34m)\u001b[0m\u001b[0;34m]\u001b[0m\u001b[0;34m\u001b[0m\u001b[0m\n\u001b[0m\u001b[1;32m     11\u001b[0m         \u001b[0;32mreturn\u001b[0m \u001b[0mresult\u001b[0m\u001b[0;34m[\u001b[0m\u001b[0;36m0\u001b[0m\u001b[0;34m]\u001b[0m \u001b[0;32mif\u001b[0m \u001b[0mlen\u001b[0m\u001b[0;34m(\u001b[0m\u001b[0mresult\u001b[0m\u001b[0;34m)\u001b[0m \u001b[0;34m==\u001b[0m \u001b[0;36m1\u001b[0m \u001b[0;32melse\u001b[0m \u001b[0mresult\u001b[0m\u001b[0;34m\u001b[0m\u001b[0m\n\u001b[1;32m     12\u001b[0m \u001b[0;34m\u001b[0m\u001b[0m\n",
      "\u001b[0;32m~/anaconda3/envs/spice/lib/python3.6/site-packages/faker_schema/faker_schema.py\u001b[0m in \u001b[0;36m<listcomp>\u001b[0;34m(.0)\u001b[0m\n\u001b[1;32m      8\u001b[0m \u001b[0;34m\u001b[0m\u001b[0m\n\u001b[1;32m      9\u001b[0m     \u001b[0;32mdef\u001b[0m \u001b[0mgenerate_fake\u001b[0m\u001b[0;34m(\u001b[0m\u001b[0mself\u001b[0m\u001b[0;34m,\u001b[0m \u001b[0mschema\u001b[0m\u001b[0;34m,\u001b[0m \u001b[0miterations\u001b[0m\u001b[0;34m=\u001b[0m\u001b[0;36m1\u001b[0m\u001b[0;34m)\u001b[0m\u001b[0;34m:\u001b[0m\u001b[0;34m\u001b[0m\u001b[0m\n\u001b[0;32m---> 10\u001b[0;31m         \u001b[0mresult\u001b[0m \u001b[0;34m=\u001b[0m \u001b[0;34m[\u001b[0m\u001b[0mself\u001b[0m\u001b[0;34m.\u001b[0m\u001b[0m_generate_one_fake\u001b[0m\u001b[0;34m(\u001b[0m\u001b[0mschema\u001b[0m\u001b[0;34m)\u001b[0m \u001b[0;32mfor\u001b[0m \u001b[0m_\u001b[0m \u001b[0;32min\u001b[0m \u001b[0mrange\u001b[0m\u001b[0;34m(\u001b[0m\u001b[0miterations\u001b[0m\u001b[0;34m)\u001b[0m\u001b[0;34m]\u001b[0m\u001b[0;34m\u001b[0m\u001b[0m\n\u001b[0m\u001b[1;32m     11\u001b[0m         \u001b[0;32mreturn\u001b[0m \u001b[0mresult\u001b[0m\u001b[0;34m[\u001b[0m\u001b[0;36m0\u001b[0m\u001b[0;34m]\u001b[0m \u001b[0;32mif\u001b[0m \u001b[0mlen\u001b[0m\u001b[0;34m(\u001b[0m\u001b[0mresult\u001b[0m\u001b[0;34m)\u001b[0m \u001b[0;34m==\u001b[0m \u001b[0;36m1\u001b[0m \u001b[0;32melse\u001b[0m \u001b[0mresult\u001b[0m\u001b[0;34m\u001b[0m\u001b[0m\n\u001b[1;32m     12\u001b[0m \u001b[0;34m\u001b[0m\u001b[0m\n",
      "\u001b[0;32m~/anaconda3/envs/spice/lib/python3.6/site-packages/faker_schema/faker_schema.py\u001b[0m in \u001b[0;36m_generate_one_fake\u001b[0;34m(self, schema)\u001b[0m\n\u001b[1;32m     29\u001b[0m                 \u001b[0mdata\u001b[0m\u001b[0;34m[\u001b[0m\u001b[0mk\u001b[0m\u001b[0;34m]\u001b[0m \u001b[0;34m=\u001b[0m \u001b[0;34m[\u001b[0m\u001b[0mself\u001b[0m\u001b[0;34m.\u001b[0m\u001b[0m_generate_one_fake\u001b[0m\u001b[0;34m(\u001b[0m\u001b[0mitem\u001b[0m\u001b[0;34m)\u001b[0m \u001b[0;32mfor\u001b[0m \u001b[0mitem\u001b[0m \u001b[0;32min\u001b[0m \u001b[0mv\u001b[0m\u001b[0;34m]\u001b[0m\u001b[0;34m\u001b[0m\u001b[0m\n\u001b[1;32m     30\u001b[0m             \u001b[0;32melse\u001b[0m\u001b[0;34m:\u001b[0m\u001b[0;34m\u001b[0m\u001b[0m\n\u001b[0;32m---> 31\u001b[0;31m                 \u001b[0mdata\u001b[0m\u001b[0;34m[\u001b[0m\u001b[0mk\u001b[0m\u001b[0;34m]\u001b[0m \u001b[0;34m=\u001b[0m \u001b[0mgetattr\u001b[0m\u001b[0;34m(\u001b[0m\u001b[0mself\u001b[0m\u001b[0;34m.\u001b[0m\u001b[0m_faker\u001b[0m\u001b[0;34m,\u001b[0m \u001b[0mv\u001b[0m\u001b[0;34m)\u001b[0m\u001b[0;34m(\u001b[0m\u001b[0;34m)\u001b[0m\u001b[0;34m\u001b[0m\u001b[0m\n\u001b[0m\u001b[1;32m     32\u001b[0m         \u001b[0;32mreturn\u001b[0m \u001b[0mdata\u001b[0m\u001b[0;34m\u001b[0m\u001b[0m\n",
      "\u001b[0;31mAttributeError\u001b[0m: 'Generator' object has no attribute '#/definitions/ISD200'"
     ]
    }
   ],
   "source": [
    "faker = FakerSchema()\n",
    "data = faker.generate_fake(json.load(open('.test.json')))"
   ]
  },
  {
   "cell_type": "code",
   "execution_count": 80,
   "metadata": {},
   "outputs": [],
   "source": [
    "data = faker.generate_fake()"
   ]
  },
  {
   "cell_type": "code",
   "execution_count": 94,
   "metadata": {},
   "outputs": [],
   "source": [
    "d = {\n",
    "  \"focal_length_model\": {\n",
    "    \"focal_length\": 8956109.912093699\n",
    "  },\n",
    "  \"starting_ephemeris_time\": -81648701.37850185,\n",
    "  \"reference_height\": {\n",
    "    \"minheight\": -49509924.40207087,\n",
    "    \"maxheight\": -64806327.916919805\n",
    "  },\n",
    "  \"sensor_orientation\": [],\n",
    "  \"focal2pixel_lines\": [\n",
    "    -90874445.23094632,\n",
    "    -63693878.03086535\n",
    "  ],\n",
    "  \"focal2pixel_samples\": [\n",
    "    -22820720.056457058\n",
    "  ],\n",
    "  \"radii\": {\n",
    "    \"semimajor\": 66858701.60760698\n",
    "  },\n",
    "  \"image_samples\": -32811253.639251128,\n",
    "  \"image_lines\": 14515514.67226109,\n",
    "  \"starting_detector_sample\": -62787145.932138436,\n",
    "  \"starting_detector_line\": 86711758.64155084\n",
    "}"
   ]
  },
  {
   "cell_type": "code",
   "execution_count": 103,
   "metadata": {},
   "outputs": [
    {
     "data": {
      "text/plain": [
       "set()"
      ]
     },
     "execution_count": 103,
     "metadata": {},
     "output_type": "execute_result"
    }
   ],
   "source": [
    "d.keys() - d2.keys()"
   ]
  },
  {
   "cell_type": "code",
   "execution_count": 152,
   "metadata": {},
   "outputs": [],
   "source": [
    "from faker_schema.faker_schema import FakerSchema\n",
    "import pfeffernusse"
   ]
  },
  {
   "cell_type": "code",
   "execution_count": 153,
   "metadata": {},
   "outputs": [],
   "source": [
    "from pfeffernusse.models import ISD200\n",
    "from typing import List, Dict \n",
    "import typing"
   ]
  },
  {
   "cell_type": "code",
   "execution_count": 165,
   "metadata": {},
   "outputs": [
    {
     "data": {
      "text/plain": [
       "typing.List[pfeffernusse.models.quaternion.Quaternion]"
      ]
     },
     "execution_count": 165,
     "metadata": {},
     "output_type": "execute_result"
    }
   ],
   "source": [
    "ISD200().__dict__['swagger_types']"
   ]
  },
  {
   "cell_type": "code",
   "execution_count": 191,
   "metadata": {},
   "outputs": [],
   "source": [
    "# dir(List[pfeffernusse.models.xyz.XYZ])"
   ]
  },
  {
   "cell_type": "code",
   "execution_count": 168,
   "metadata": {},
   "outputs": [],
   "source": [
    "typing.GenericMeta?"
   ]
  },
  {
   "cell_type": "code",
   "execution_count": 167,
   "metadata": {},
   "outputs": [
    {
     "ename": "TypeError",
     "evalue": "Parameters to generic types must be types. Got 0.",
     "output_type": "error",
     "traceback": [
      "\u001b[0;31m----------\u001b[0m",
      "\u001b[0;31mTypeError\u001b[0mTraceback (most recent call last)",
      "\u001b[0;32m<ipython-input-167-41b2f5b1b14d>\u001b[0m in \u001b[0;36m<module>\u001b[0;34m()\u001b[0m\n\u001b[0;32m----> 1\u001b[0;31m \u001b[0mtyping\u001b[0m\u001b[0;34m.\u001b[0m\u001b[0mList\u001b[0m\u001b[0;34m[\u001b[0m\u001b[0;36m0\u001b[0m\u001b[0;34m]\u001b[0m\u001b[0;34m\u001b[0m\u001b[0m\n\u001b[0m",
      "\u001b[0;32m~/anaconda3/envs/spice/lib/python3.6/typing.py\u001b[0m in \u001b[0;36minner\u001b[0;34m(*args, **kwds)\u001b[0m\n\u001b[1;32m    680\u001b[0m         \u001b[0;32mexcept\u001b[0m \u001b[0mTypeError\u001b[0m\u001b[0;34m:\u001b[0m\u001b[0;34m\u001b[0m\u001b[0m\n\u001b[1;32m    681\u001b[0m             \u001b[0;32mpass\u001b[0m  \u001b[0;31m# All real errors (not unhashable args) are raised below.\u001b[0m\u001b[0;34m\u001b[0m\u001b[0m\n\u001b[0;32m--> 682\u001b[0;31m         \u001b[0;32mreturn\u001b[0m \u001b[0mfunc\u001b[0m\u001b[0;34m(\u001b[0m\u001b[0;34m*\u001b[0m\u001b[0margs\u001b[0m\u001b[0;34m,\u001b[0m \u001b[0;34m**\u001b[0m\u001b[0mkwds\u001b[0m\u001b[0;34m)\u001b[0m\u001b[0;34m\u001b[0m\u001b[0m\n\u001b[0m\u001b[1;32m    683\u001b[0m     \u001b[0;32mreturn\u001b[0m \u001b[0minner\u001b[0m\u001b[0;34m\u001b[0m\u001b[0m\n\u001b[1;32m    684\u001b[0m \u001b[0;34m\u001b[0m\u001b[0m\n",
      "\u001b[0;32m~/anaconda3/envs/spice/lib/python3.6/typing.py\u001b[0m in \u001b[0;36m__getitem__\u001b[0;34m(self, params)\u001b[0m\n\u001b[1;32m   1105\u001b[0m                 \"Parameter list to %s[...] cannot be empty\" % _qualname(self))\n\u001b[1;32m   1106\u001b[0m         \u001b[0mmsg\u001b[0m \u001b[0;34m=\u001b[0m \u001b[0;34m\"Parameters to generic types must be types.\"\u001b[0m\u001b[0;34m\u001b[0m\u001b[0m\n\u001b[0;32m-> 1107\u001b[0;31m         \u001b[0mparams\u001b[0m \u001b[0;34m=\u001b[0m \u001b[0mtuple\u001b[0m\u001b[0;34m(\u001b[0m\u001b[0m_type_check\u001b[0m\u001b[0;34m(\u001b[0m\u001b[0mp\u001b[0m\u001b[0;34m,\u001b[0m \u001b[0mmsg\u001b[0m\u001b[0;34m)\u001b[0m \u001b[0;32mfor\u001b[0m \u001b[0mp\u001b[0m \u001b[0;32min\u001b[0m \u001b[0mparams\u001b[0m\u001b[0;34m)\u001b[0m\u001b[0;34m\u001b[0m\u001b[0m\n\u001b[0m\u001b[1;32m   1108\u001b[0m         \u001b[0;32mif\u001b[0m \u001b[0mself\u001b[0m \u001b[0;32mis\u001b[0m \u001b[0mGeneric\u001b[0m\u001b[0;34m:\u001b[0m\u001b[0;34m\u001b[0m\u001b[0m\n\u001b[1;32m   1109\u001b[0m             \u001b[0;31m# Generic can only be subscripted with unique type variables.\u001b[0m\u001b[0;34m\u001b[0m\u001b[0;34m\u001b[0m\u001b[0m\n",
      "\u001b[0;32m~/anaconda3/envs/spice/lib/python3.6/typing.py\u001b[0m in \u001b[0;36m<genexpr>\u001b[0;34m(.0)\u001b[0m\n\u001b[1;32m   1105\u001b[0m                 \"Parameter list to %s[...] cannot be empty\" % _qualname(self))\n\u001b[1;32m   1106\u001b[0m         \u001b[0mmsg\u001b[0m \u001b[0;34m=\u001b[0m \u001b[0;34m\"Parameters to generic types must be types.\"\u001b[0m\u001b[0;34m\u001b[0m\u001b[0m\n\u001b[0;32m-> 1107\u001b[0;31m         \u001b[0mparams\u001b[0m \u001b[0;34m=\u001b[0m \u001b[0mtuple\u001b[0m\u001b[0;34m(\u001b[0m\u001b[0m_type_check\u001b[0m\u001b[0;34m(\u001b[0m\u001b[0mp\u001b[0m\u001b[0;34m,\u001b[0m \u001b[0mmsg\u001b[0m\u001b[0;34m)\u001b[0m \u001b[0;32mfor\u001b[0m \u001b[0mp\u001b[0m \u001b[0;32min\u001b[0m \u001b[0mparams\u001b[0m\u001b[0;34m)\u001b[0m\u001b[0;34m\u001b[0m\u001b[0m\n\u001b[0m\u001b[1;32m   1108\u001b[0m         \u001b[0;32mif\u001b[0m \u001b[0mself\u001b[0m \u001b[0;32mis\u001b[0m \u001b[0mGeneric\u001b[0m\u001b[0;34m:\u001b[0m\u001b[0;34m\u001b[0m\u001b[0m\n\u001b[1;32m   1109\u001b[0m             \u001b[0;31m# Generic can only be subscripted with unique type variables.\u001b[0m\u001b[0;34m\u001b[0m\u001b[0;34m\u001b[0m\u001b[0m\n",
      "\u001b[0;32m~/anaconda3/envs/spice/lib/python3.6/typing.py\u001b[0m in \u001b[0;36m_type_check\u001b[0;34m(arg, msg)\u001b[0m\n\u001b[1;32m    372\u001b[0m         \u001b[0;32mnot\u001b[0m \u001b[0misinstance\u001b[0m\u001b[0;34m(\u001b[0m\u001b[0marg\u001b[0m\u001b[0;34m,\u001b[0m \u001b[0;34m(\u001b[0m\u001b[0mtype\u001b[0m\u001b[0;34m,\u001b[0m \u001b[0m_TypingBase\u001b[0m\u001b[0;34m)\u001b[0m\u001b[0;34m)\u001b[0m \u001b[0;32mand\u001b[0m \u001b[0;32mnot\u001b[0m \u001b[0mcallable\u001b[0m\u001b[0;34m(\u001b[0m\u001b[0marg\u001b[0m\u001b[0;34m)\u001b[0m\u001b[0;34m\u001b[0m\u001b[0m\n\u001b[1;32m    373\u001b[0m     ):\n\u001b[0;32m--> 374\u001b[0;31m         \u001b[0;32mraise\u001b[0m \u001b[0mTypeError\u001b[0m\u001b[0;34m(\u001b[0m\u001b[0mmsg\u001b[0m \u001b[0;34m+\u001b[0m \u001b[0;34m\" Got %.100r.\"\u001b[0m \u001b[0;34m%\u001b[0m \u001b[0;34m(\u001b[0m\u001b[0marg\u001b[0m\u001b[0;34m,\u001b[0m\u001b[0;34m)\u001b[0m\u001b[0;34m)\u001b[0m\u001b[0;34m\u001b[0m\u001b[0m\n\u001b[0m\u001b[1;32m    375\u001b[0m     \u001b[0;31m# Bare Union etc. are not valid as type arguments\u001b[0m\u001b[0;34m\u001b[0m\u001b[0;34m\u001b[0m\u001b[0m\n\u001b[1;32m    376\u001b[0m     if (\n",
      "\u001b[0;31mTypeError\u001b[0m: Parameters to generic types must be types. Got 0."
     ]
    }
   ],
   "source": []
  },
  {
   "cell_type": "code",
   "execution_count": 169,
   "metadata": {},
   "outputs": [],
   "source": [
    "import six"
   ]
  },
  {
   "cell_type": "code",
   "execution_count": 177,
   "metadata": {},
   "outputs": [
    {
     "data": {
      "text/plain": [
       "{'detector_center': None,\n",
       " 'center_ephemeris_time': None,\n",
       " 'starting_ephemeris_time': None,\n",
       " 'focal_length_model': None,\n",
       " 'image_lines': None,\n",
       " 'image_samples': None,\n",
       " 'radii': None,\n",
       " 'optical_distortion': None,\n",
       " 'starting_detector_sample': None,\n",
       " 'starting_detector_line': None,\n",
       " 'focal2pixel_samples': None,\n",
       " 'focal2pixel_lines': None,\n",
       " 'sensor_location': None,\n",
       " 'sensor_velocity': None,\n",
       " 'sun_position': None,\n",
       " 'sun_velocity': None,\n",
       " 'sensor_orientation': None,\n",
       " 'line_scan_rate': None,\n",
       " 'detector_sample_summing': None,\n",
       " 'detector_line_summing': None,\n",
       " 'apply_light_time_correction': None,\n",
       " 'number_of_ephemerides': None,\n",
       " 'number_of_quaternions': None,\n",
       " 'dt_ephemeris': None,\n",
       " 't0_ephemeris': None,\n",
       " 'dt_quaternion': None,\n",
       " 't0_quaternion': None,\n",
       " 'reference_height': None,\n",
       " 'interpolation_method': None}"
      ]
     },
     "execution_count": 177,
     "metadata": {},
     "output_type": "execute_result"
    }
   ],
   "source": [
    "ISD200().to_dict()"
   ]
  },
  {
   "cell_type": "code",
   "execution_count": null,
   "metadata": {},
   "outputs": [],
   "source": [
    "ISD200().swagger"
   ]
  },
  {
   "cell_type": "code",
   "execution_count": 181,
   "metadata": {},
   "outputs": [],
   "source": [
    "l = set(  [\"detector_center\",\n",
    "  \"center_ephemeris_time\", \n",
    "  \"starting_ephemeris_time\",\n",
    "  \"focal_length_model\",\n",
    "  \"image_lines\",\n",
    "  \"image_samples\",\n",
    "  \"radii\",\n",
    "  \"optical_distortion\",\n",
    "  \"starting_detector_sample\",\n",
    "  \"starting_detector_line\",\n",
    "  \"focal2pixel_samples\",\n",
    "  \"focal2pixel_lines\",\n",
    "  \"sensor_location\",\n",
    "  \"sensor_velocity\",\n",
    "  \"sun_position\",\n",
    "  \"sun_velocity\",\n",
    "  \"sensor_orientation\",\n",
    "  \"line_scan_rate\",\n",
    "  \"detector_sample_summing\",\n",
    "  \"detector_line_summing\",\n",
    "  \"apply_light_time_correction\",\n",
    "  \"number_of_ephemerides\",\n",
    "  \"number_of_quaternions\",\n",
    "  \"dt_ephemeris\",\n",
    "  \"t0_ephemeris\",\n",
    "  \"t0_quaternion\",\n",
    "  \"reference_height\",\n",
    "  \"interpolation_method\"])"
   ]
  },
  {
   "cell_type": "code",
   "execution_count": 190,
   "metadata": {},
   "outputs": [
    {
     "data": {
      "text/plain": [
       "{'apply_light_time_correction',\n",
       " 'detector_center',\n",
       " 'detector_line_summing',\n",
       " 'detector_sample_summing',\n",
       " 'dt_quaternion',\n",
       " 'line_scan_rate',\n",
       " 'number_of_quaternions',\n",
       " 't0_ephemeris',\n",
       " 't0_quaternion'}"
      ]
     },
     "execution_count": 190,
     "metadata": {},
     "output_type": "execute_result"
    }
   ],
   "source": [
    "ISD200().to_dict().keys() - r.json().keys()"
   ]
  },
  {
   "cell_type": "code",
   "execution_count": 192,
   "metadata": {},
   "outputs": [
    {
     "data": {
      "text/plain": [
       "{'center_ephemeris_time': 418855170.5006496,\n",
       " 'dt_ephemeris': 0.016000032424926758,\n",
       " 'focal2pixel_lines': [0.0, 0.0, 0.014],\n",
       " 'focal2pixel_samples': [0.0, 0.014, 0.0],\n",
       " 'focal_length_model': {'focal_length': 549.1178195372703,\n",
       "  'focal_length_epsilon': 0.5},\n",
       " 'image_lines': 1024,\n",
       " 'image_samples': 1024,\n",
       " 'interpolation_method': 'lagrange',\n",
       " 'number_of_ephemerides': 1,\n",
       " 'optical_distortion': {'coefficients': [0.0,\n",
       "   0.0,\n",
       "   1.0,\n",
       "   0.0009060010594996751,\n",
       "   0.0,\n",
       "   0.0003574842626620758,\n",
       "   0.0,\n",
       "   1.004010471468856e-05,\n",
       "   0.0,\n",
       "   1.004010471468856e-05]},\n",
       " 'radii': {'semimajor': 2439400.0, 'semiminor': 2439400.0},\n",
       " 'reference_height': {'maxheight': 8000, 'minheight': -8000, 'unit': 'KM'},\n",
       " 'sensor_location': {'unit': 'm',\n",
       "  'x': 1728197.0439980691,\n",
       "  'y': -2088216.968709019,\n",
       "  'z': 2082694.211007305},\n",
       " 'sensor_orientation': [0.39900625946972035,\n",
       "  -0.7905943518879116,\n",
       "  -0.4359092364938528,\n",
       "  0.16042977655741425],\n",
       " 'sensor_velocity': {'unit': 'm',\n",
       "  'x': 1997.9720559200437,\n",
       "  'y': -1800.5700851538281,\n",
       "  'z': -1674.779510619489},\n",
       " 'starting_detector_line': 1,\n",
       " 'starting_detector_sample': 9,\n",
       " 'starting_ephemeris_time': 418855170.49264956,\n",
       " 'sun_position': {'x': -31640702432.921574,\n",
       "  'y': -60638093688.31109,\n",
       "  'z': -38731104.56773266},\n",
       " 'sun_velocity': {'x': -38191.12392266651,\n",
       "  'y': 24381.841914284105,\n",
       "  'z': -4.860970418599342}}"
      ]
     },
     "execution_count": 192,
     "metadata": {},
     "output_type": "execute_result"
    }
   ],
   "source": [
    "r.json()"
   ]
  },
  {
   "cell_type": "code",
   "execution_count": 219,
   "metadata": {},
   "outputs": [],
   "source": [
    "import math\n",
    "import numpy as np\n",
    "def euler2quat(z=0, y=0, x=0):\n",
    "    ''' Return quaternion corresponding to these Euler angles\n",
    "\n",
    "    Uses the z, then y, then x convention above\n",
    "\n",
    "    Parameters\n",
    "    ----------\n",
    "    z : scalar\n",
    "       Rotation angle in radians around z-axis (performed first)\n",
    "    y : scalar\n",
    "       Rotation angle in radians around y-axis\n",
    "    x : scalar\n",
    "       Rotation angle in radians around x-axis (performed last)\n",
    "\n",
    "    Returns\n",
    "    -------\n",
    "    quat : array shape (4,)\n",
    "       Quaternion in w, x, y z (real, then vector) format\n",
    "\n",
    "    Notes\n",
    "    -----\n",
    "    We can derive this formula in Sympy using:\n",
    "\n",
    "    1. Formula giving quaternion corresponding to rotation of theta radians\n",
    "       about arbitrary axis:\n",
    "       http://mathworld.wolfram.com/EulerParameters.html\n",
    "    2. Generated formulae from 1.) for quaternions corresponding to\n",
    "       theta radians rotations about ``x, y, z`` axes\n",
    "    3. Apply quaternion multiplication formula -\n",
    "       http://en.wikipedia.org/wiki/Quaternions#Hamilton_product - to\n",
    "       formulae from 2.) to give formula for combined rotations.\n",
    "    '''\n",
    "    z = z/2.0\n",
    "    y = y/2.0\n",
    "    x = x/2.0\n",
    "    cz = math.cos(z)\n",
    "    sz = math.sin(z)\n",
    "    cy = math.cos(y)\n",
    "    sy = math.sin(y)\n",
    "    cx = math.cos(x)\n",
    "    sx = math.sin(x)\n",
    "    return np.array([\n",
    "             cx*cy*cz - sx*sy*sz,\n",
    "             cx*sy*sz + cy*cz*sx,\n",
    "             cx*cz*sy - sx*cy*sz,\n",
    "             cx*cy*sz + sx*cz*sy])"
   ]
  },
  {
   "cell_type": "code",
   "execution_count": 221,
   "metadata": {},
   "outputs": [],
   "source": [
    "arr = euler2quat(0, -1.5707963267948966, 3.141592653589793)"
   ]
  },
  {
   "cell_type": "code",
   "execution_count": 227,
   "metadata": {},
   "outputs": [
    {
     "data": {
      "text/plain": [
       "[0.0, 0.70710700000000004, -0.0, -0.70710700000000004]"
      ]
     },
     "execution_count": 227,
     "metadata": {},
     "output_type": "execute_result"
    }
   ],
   "source": [
    "list(map(lambda x:round(x,6), arr))"
   ]
  },
  {
   "cell_type": "code",
   "execution_count": 224,
   "metadata": {},
   "outputs": [
    {
     "data": {
      "text/plain": [
       "4.32978028e-17"
      ]
     },
     "execution_count": 224,
     "metadata": {},
     "output_type": "execute_result"
    }
   ],
   "source": [
    " 4.32978028e-17"
   ]
  },
  {
   "cell_type": "code",
   "execution_count": 29,
   "metadata": {},
   "outputs": [],
   "source": [
    "import os \n",
    "from glob import glob \n",
    "from os import path\n",
    "\n",
    "from itertools import groupby, filterfalse\n",
    "\n",
    "def get_metakernels(missions=set(), years=set(), versions=set()):\n",
    "    \"\"\"\n",
    "    Mostly doing filtering here, might be worth using Pandas?\n",
    "    \n",
    "    Super beta, proof of concept code slapped together at a Starbucks.\n",
    "    \"\"\"\n",
    "    spice_dir = os.environ.get(\"SPICE_DATA\")\n",
    "    if spice_dir is None:\n",
    "        raise Exception(\"$SPICE_DATA not set\")\n",
    "    \n",
    "    if isinstance(missions, str):\n",
    "        missions = {missions}\n",
    "        \n",
    "    if isinstance(years, str) or isinstance(years, int):\n",
    "        years = {str(years)}\n",
    "    else:\n",
    "        years = {str(year) for year in years}\n",
    "    \n",
    "    avail = {\n",
    "        'count': 0,\n",
    "        'data': []\n",
    "    }\n",
    "    \n",
    "    mission_dirs = list(filter(os.path.isdir, glob(os.path.join(spice_dir, '*'))))\n",
    "    \n",
    "    for md in mission_dirs:\n",
    "        # Assuming spice root has the same name as the original on NAIF website\"\n",
    "        mission = os.path.basename(md).split('-')[0]\n",
    "        if missions and mission not in missions:\n",
    "            continue\n",
    "        \n",
    "        metakernel_keys = ['mission', 'year', 'version', 'path']\n",
    "        \n",
    "        # recursive glob to make metakernel search more robust to \n",
    "        # subtle directory structure differences \n",
    "        metakernel_paths = sorted(glob(os.path.join(md, '**','*.tm'), recursive=True))\n",
    "        \n",
    "        metakernels = [dict(zip(metakernel_keys, [mission]+path.splitext(path.basename(k))[0].split('_')[1:3] + [k])) for k in metakernel_paths]\n",
    "        \n",
    "        # naive filter, do we really need anything else?\n",
    "        if years:\n",
    "            metakernels = list(filter(lambda x:x['year'] in years, metakernels))\n",
    "        if versions:\n",
    "            if versions == 'latest':  \n",
    "                latest = []\n",
    "                # Panda's groupby is overrated \n",
    "                for k, g in groupby(metakernels, lambda x:x['year']):\n",
    "                    items = list(g)\n",
    "                    latest.append(max(items, key=lambda x:x['version']))\n",
    "                metakernels = latest\n",
    "            else:        \n",
    "                metakernels = list(filter(lambda x:x['version'] in versions, metakernels))\n",
    "            \n",
    "        avail['data'].extend(metakernels)\n",
    "    \n",
    "    avail['count'] = len(avail['data'])\n",
    "    if not avail:\n",
    "        avail = {\n",
    "            'count' : 0,\n",
    "            'data' : 'ERROR: NONE OF {} ARE VALID MISSIONS'.format(missions)\n",
    "        }\n",
    "        \n",
    "    return avail\n"
   ]
  },
  {
   "cell_type": "code",
   "execution_count": 182,
   "metadata": {},
   "outputs": [],
   "source": [
    "os.environ['SPICE_DATA'] = '/data/spice'"
   ]
  },
  {
   "cell_type": "code",
   "execution_count": 183,
   "metadata": {
    "scrolled": false
   },
   "outputs": [
    {
     "data": {
      "text/plain": [
       "{'count': 1,\n",
       " 'data': [{'mission': 'mess',\n",
       "   'year': '2013',\n",
       "   'version': 'v06',\n",
       "   'path': '/data/spice/mess-e_v_h-spice-6-v1.0/messsp_1000/extras/mk/msgr_2013_v06.tm'}]}"
      ]
     },
     "execution_count": 183,
     "metadata": {},
     "output_type": "execute_result"
    }
   ],
   "source": [
    "get_metakernels(missions='mess', versions='latest', years=2013)"
   ]
  },
  {
   "cell_type": "code",
   "execution_count": 171,
   "metadata": {},
   "outputs": [
    {
     "data": {
      "text/plain": [
       "'test{ikid}_test'"
      ]
     },
     "execution_count": 171,
     "metadata": {},
     "output_type": "execute_result"
    }
   ],
   "source": [
    "s = 'test{ikid}_test'\n",
    "s"
   ]
  },
  {
   "cell_type": "code",
   "execution_count": 172,
   "metadata": {},
   "outputs": [
    {
     "data": {
      "text/plain": [
       "'test-100_test'"
      ]
     },
     "execution_count": 172,
     "metadata": {},
     "output_type": "execute_result"
    }
   ],
   "source": [
    "s.format(**{'ikid': '-100', 'test':'21312'})"
   ]
  },
  {
   "cell_type": "code",
   "execution_count": null,
   "metadata": {},
   "outputs": [],
   "source": []
  },
  {
   "cell_type": "code",
   "execution_count": null,
   "metadata": {},
   "outputs": [],
   "source": []
  },
  {
   "cell_type": "code",
   "execution_count": 27,
   "metadata": {},
   "outputs": [
    {
     "name": "stdout",
     "output_type": "stream",
     "text": [
      "6944 3089\n"
     ]
    }
   ],
   "source": [
    "import zlib\n",
    "import base64\n",
    "\n",
    "\n",
    "ss = ''\n",
    "with open('/data/spice/EN1007907102M.IMG.lbl') as f:\n",
    "    ss = ''.join(f.readlines())\n",
    "    \n",
    "ssc = zlib.compress(ss.lower().encode('utf-8'))\n",
    "bites = base64.encodebytes(ssc)\n",
    "print(len(ss), len(bites.decode('ascii')))\n",
    "\n"
   ]
  },
  {
   "cell_type": "code",
   "execution_count": 32,
   "metadata": {},
   "outputs": [
    {
     "ename": "NameError",
     "evalue": "name 'keys' is not defined",
     "output_type": "error",
     "traceback": [
      "\u001b[0;31m---------------------------------------------------------------------------\u001b[0m",
      "\u001b[0;31mNameError\u001b[0m                                 Traceback (most recent call last)",
      "\u001b[0;32m<ipython-input-32-23b5fb5d66e8>\u001b[0m in \u001b[0;36m<module>\u001b[0;34m\u001b[0m\n\u001b[1;32m      4\u001b[0m \u001b[0mspice\u001b[0m\u001b[0;34m.\u001b[0m\u001b[0mfurnsh\u001b[0m\u001b[0;34m(\u001b[0m\u001b[0mlatest_mess\u001b[0m\u001b[0;34m[\u001b[0m\u001b[0;34m'data'\u001b[0m\u001b[0;34m]\u001b[0m\u001b[0;34m[\u001b[0m\u001b[0;36m0\u001b[0m\u001b[0;34m]\u001b[0m\u001b[0;34m[\u001b[0m\u001b[0;34m'path'\u001b[0m\u001b[0;34m]\u001b[0m\u001b[0;34m)\u001b[0m\u001b[0;34m\u001b[0m\u001b[0m\n\u001b[1;32m      5\u001b[0m \u001b[0;34m\u001b[0m\u001b[0m\n\u001b[0;32m----> 6\u001b[0;31m \u001b[0md\u001b[0m \u001b[0;34m=\u001b[0m \u001b[0mMessenger\u001b[0m\u001b[0;34m(\u001b[0m\u001b[0mspice_keys\u001b[0m\u001b[0;34m=\u001b[0m\u001b[0mkeys\u001b[0m\u001b[0;34m,\u001b[0m \u001b[0mlabel\u001b[0m\u001b[0;34m=\u001b[0m\u001b[0mpvl\u001b[0m\u001b[0;34m.\u001b[0m\u001b[0mloads\u001b[0m\u001b[0;34m(\u001b[0m\u001b[0mss\u001b[0m\u001b[0;34m)\u001b[0m\u001b[0;34m)\u001b[0m\u001b[0;34m\u001b[0m\u001b[0m\n\u001b[0m\u001b[1;32m      7\u001b[0m \u001b[0md\u001b[0m\u001b[0;34m.\u001b[0m\u001b[0mfocal_length\u001b[0m\u001b[0;34m,\u001b[0m \u001b[0md\u001b[0m\u001b[0;34m.\u001b[0m\u001b[0mspacecraft_id\u001b[0m\u001b[0;34m,\u001b[0m \u001b[0md\u001b[0m\u001b[0;34m.\u001b[0m\u001b[0modkx\u001b[0m\u001b[0;34m,\u001b[0m \u001b[0md\u001b[0m\u001b[0;34m.\u001b[0m\u001b[0msun_position\u001b[0m\u001b[0;34m,\u001b[0m \u001b[0md\u001b[0m\u001b[0;34m.\u001b[0m\u001b[0msemimajor\u001b[0m\u001b[0;34m,\u001b[0m \u001b[0md\u001b[0m\u001b[0;34m.\u001b[0m\u001b[0msensor_position\u001b[0m\u001b[0;34m\u001b[0m\u001b[0m\n",
      "\u001b[0;31mNameError\u001b[0m: name 'keys' is not defined"
     ]
    }
   ],
   "source": [
    "latest_mess = get_metakernels(missions='mess', versions='latest', years=2013)\n",
    "\n",
    "# Should Drivers be responsible for loading/unloading kernels? \n",
    "spice.furnsh(latest_mess['data'][0]['path'])\n",
    "\n",
    "d = Messenger(spice_keys=keys, label=pvl.loads(ss))\n",
    "d.focal_length, d.spacecraft_id, d.odkx, d.sun_position, d.semimajor, d.sensor_position"
   ]
  },
  {
   "cell_type": "code",
   "execution_count": 31,
   "metadata": {
    "scrolled": false
   },
   "outputs": [],
   "source": [
    "os.environ[\"SPICE_DATA\"] = \"/data/spice/\""
   ]
  },
  {
   "cell_type": "code",
   "execution_count": 16,
   "metadata": {},
   "outputs": [],
   "source": [
    "# spice.unload(latest_mess['data'][0]['path'])"
   ]
  },
  {
   "cell_type": "code",
   "execution_count": 51,
   "metadata": {
    "scrolled": false
   },
   "outputs": [
    {
     "data": {
      "text/plain": [
       "dict_keys(['mess'])"
      ]
     },
     "execution_count": 51,
     "metadata": {},
     "output_type": "execute_result"
    }
   ],
   "source": [
    "import pandas as pd\n",
    "pd.DataFrame.from_dict(get_metakernels()[\"data\"]).groupby(\"mission\").groups.keys()"
   ]
  },
  {
   "cell_type": "code",
   "execution_count": 65,
   "metadata": {
    "scrolled": false
   },
   "outputs": [
    {
     "data": {
      "text/plain": [
       "{'count': 114,\n",
       " 'data': [{'mission': 'mess',\n",
       "   'year': 'cklist',\n",
       "   'version': 'v02',\n",
       "   'path': '/data/spice/mess-e_v_h-spice-6-v1.0/messsp_1000/extras/mk/mdis_cklist_v02.tm'},\n",
       "  {'mission': 'mess',\n",
       "   'year': '2004',\n",
       "   'version': 'v01',\n",
       "   'path': '/data/spice/mess-e_v_h-spice-6-v1.0/messsp_1000/extras/mk/msgr_2004_v01.tm'},\n",
       "  {'mission': 'mess',\n",
       "   'year': '2004',\n",
       "   'version': 'v02',\n",
       "   'path': '/data/spice/mess-e_v_h-spice-6-v1.0/messsp_1000/extras/mk/msgr_2004_v02.tm'},\n",
       "  {'mission': 'mess',\n",
       "   'year': '2004',\n",
       "   'version': 'v03',\n",
       "   'path': '/data/spice/mess-e_v_h-spice-6-v1.0/messsp_1000/extras/mk/msgr_2004_v03.tm'},\n",
       "  {'mission': 'mess',\n",
       "   'year': '2004',\n",
       "   'version': 'v04',\n",
       "   'path': '/data/spice/mess-e_v_h-spice-6-v1.0/messsp_1000/extras/mk/msgr_2004_v04.tm'},\n",
       "  {'mission': 'mess',\n",
       "   'year': '2004',\n",
       "   'version': 'v05',\n",
       "   'path': '/data/spice/mess-e_v_h-spice-6-v1.0/messsp_1000/extras/mk/msgr_2004_v05.tm'},\n",
       "  {'mission': 'mess',\n",
       "   'year': '2004',\n",
       "   'version': 'v06',\n",
       "   'path': '/data/spice/mess-e_v_h-spice-6-v1.0/messsp_1000/extras/mk/msgr_2004_v06.tm'},\n",
       "  {'mission': 'mess',\n",
       "   'year': '2004',\n",
       "   'version': 'v07',\n",
       "   'path': '/data/spice/mess-e_v_h-spice-6-v1.0/messsp_1000/extras/mk/msgr_2004_v07.tm'},\n",
       "  {'mission': 'mess',\n",
       "   'year': '2004',\n",
       "   'version': 'v08',\n",
       "   'path': '/data/spice/mess-e_v_h-spice-6-v1.0/messsp_1000/extras/mk/msgr_2004_v08.tm'},\n",
       "  {'mission': 'mess',\n",
       "   'year': '2004',\n",
       "   'version': 'v09',\n",
       "   'path': '/data/spice/mess-e_v_h-spice-6-v1.0/messsp_1000/extras/mk/msgr_2004_v09.tm'},\n",
       "  {'mission': 'mess',\n",
       "   'year': '2004',\n",
       "   'version': 'v10',\n",
       "   'path': '/data/spice/mess-e_v_h-spice-6-v1.0/messsp_1000/extras/mk/msgr_2004_v10.tm'},\n",
       "  {'mission': 'mess',\n",
       "   'year': '2004',\n",
       "   'version': 'v11',\n",
       "   'path': '/data/spice/mess-e_v_h-spice-6-v1.0/messsp_1000/extras/mk/msgr_2004_v11.tm'},\n",
       "  {'mission': 'mess',\n",
       "   'year': '2004',\n",
       "   'version': 'v12',\n",
       "   'path': '/data/spice/mess-e_v_h-spice-6-v1.0/messsp_1000/extras/mk/msgr_2004_v12.tm'},\n",
       "  {'mission': 'mess',\n",
       "   'year': '2004',\n",
       "   'version': 'v13',\n",
       "   'path': '/data/spice/mess-e_v_h-spice-6-v1.0/messsp_1000/extras/mk/msgr_2004_v13.tm'},\n",
       "  {'mission': 'mess',\n",
       "   'year': '2005',\n",
       "   'version': 'v01',\n",
       "   'path': '/data/spice/mess-e_v_h-spice-6-v1.0/messsp_1000/extras/mk/msgr_2005_v01.tm'},\n",
       "  {'mission': 'mess',\n",
       "   'year': '2005',\n",
       "   'version': 'v02',\n",
       "   'path': '/data/spice/mess-e_v_h-spice-6-v1.0/messsp_1000/extras/mk/msgr_2005_v02.tm'},\n",
       "  {'mission': 'mess',\n",
       "   'year': '2005',\n",
       "   'version': 'v03',\n",
       "   'path': '/data/spice/mess-e_v_h-spice-6-v1.0/messsp_1000/extras/mk/msgr_2005_v03.tm'},\n",
       "  {'mission': 'mess',\n",
       "   'year': '2005',\n",
       "   'version': 'v04',\n",
       "   'path': '/data/spice/mess-e_v_h-spice-6-v1.0/messsp_1000/extras/mk/msgr_2005_v04.tm'},\n",
       "  {'mission': 'mess',\n",
       "   'year': '2005',\n",
       "   'version': 'v05',\n",
       "   'path': '/data/spice/mess-e_v_h-spice-6-v1.0/messsp_1000/extras/mk/msgr_2005_v05.tm'},\n",
       "  {'mission': 'mess',\n",
       "   'year': '2005',\n",
       "   'version': 'v06',\n",
       "   'path': '/data/spice/mess-e_v_h-spice-6-v1.0/messsp_1000/extras/mk/msgr_2005_v06.tm'},\n",
       "  {'mission': 'mess',\n",
       "   'year': '2005',\n",
       "   'version': 'v07',\n",
       "   'path': '/data/spice/mess-e_v_h-spice-6-v1.0/messsp_1000/extras/mk/msgr_2005_v07.tm'},\n",
       "  {'mission': 'mess',\n",
       "   'year': '2005',\n",
       "   'version': 'v08',\n",
       "   'path': '/data/spice/mess-e_v_h-spice-6-v1.0/messsp_1000/extras/mk/msgr_2005_v08.tm'},\n",
       "  {'mission': 'mess',\n",
       "   'year': '2005',\n",
       "   'version': 'v09',\n",
       "   'path': '/data/spice/mess-e_v_h-spice-6-v1.0/messsp_1000/extras/mk/msgr_2005_v09.tm'},\n",
       "  {'mission': 'mess',\n",
       "   'year': '2005',\n",
       "   'version': 'v10',\n",
       "   'path': '/data/spice/mess-e_v_h-spice-6-v1.0/messsp_1000/extras/mk/msgr_2005_v10.tm'},\n",
       "  {'mission': 'mess',\n",
       "   'year': '2005',\n",
       "   'version': 'v11',\n",
       "   'path': '/data/spice/mess-e_v_h-spice-6-v1.0/messsp_1000/extras/mk/msgr_2005_v11.tm'},\n",
       "  {'mission': 'mess',\n",
       "   'year': '2005',\n",
       "   'version': 'v12',\n",
       "   'path': '/data/spice/mess-e_v_h-spice-6-v1.0/messsp_1000/extras/mk/msgr_2005_v12.tm'},\n",
       "  {'mission': 'mess',\n",
       "   'year': '2005',\n",
       "   'version': 'v13',\n",
       "   'path': '/data/spice/mess-e_v_h-spice-6-v1.0/messsp_1000/extras/mk/msgr_2005_v13.tm'},\n",
       "  {'mission': 'mess',\n",
       "   'year': '2006',\n",
       "   'version': 'v01',\n",
       "   'path': '/data/spice/mess-e_v_h-spice-6-v1.0/messsp_1000/extras/mk/msgr_2006_v01.tm'},\n",
       "  {'mission': 'mess',\n",
       "   'year': '2006',\n",
       "   'version': 'v02',\n",
       "   'path': '/data/spice/mess-e_v_h-spice-6-v1.0/messsp_1000/extras/mk/msgr_2006_v02.tm'},\n",
       "  {'mission': 'mess',\n",
       "   'year': '2006',\n",
       "   'version': 'v03',\n",
       "   'path': '/data/spice/mess-e_v_h-spice-6-v1.0/messsp_1000/extras/mk/msgr_2006_v03.tm'},\n",
       "  {'mission': 'mess',\n",
       "   'year': '2006',\n",
       "   'version': 'v04',\n",
       "   'path': '/data/spice/mess-e_v_h-spice-6-v1.0/messsp_1000/extras/mk/msgr_2006_v04.tm'},\n",
       "  {'mission': 'mess',\n",
       "   'year': '2006',\n",
       "   'version': 'v05',\n",
       "   'path': '/data/spice/mess-e_v_h-spice-6-v1.0/messsp_1000/extras/mk/msgr_2006_v05.tm'},\n",
       "  {'mission': 'mess',\n",
       "   'year': '2006',\n",
       "   'version': 'v06',\n",
       "   'path': '/data/spice/mess-e_v_h-spice-6-v1.0/messsp_1000/extras/mk/msgr_2006_v06.tm'},\n",
       "  {'mission': 'mess',\n",
       "   'year': '2006',\n",
       "   'version': 'v07',\n",
       "   'path': '/data/spice/mess-e_v_h-spice-6-v1.0/messsp_1000/extras/mk/msgr_2006_v07.tm'},\n",
       "  {'mission': 'mess',\n",
       "   'year': '2006',\n",
       "   'version': 'v08',\n",
       "   'path': '/data/spice/mess-e_v_h-spice-6-v1.0/messsp_1000/extras/mk/msgr_2006_v08.tm'},\n",
       "  {'mission': 'mess',\n",
       "   'year': '2006',\n",
       "   'version': 'v09',\n",
       "   'path': '/data/spice/mess-e_v_h-spice-6-v1.0/messsp_1000/extras/mk/msgr_2006_v09.tm'},\n",
       "  {'mission': 'mess',\n",
       "   'year': '2006',\n",
       "   'version': 'v10',\n",
       "   'path': '/data/spice/mess-e_v_h-spice-6-v1.0/messsp_1000/extras/mk/msgr_2006_v10.tm'},\n",
       "  {'mission': 'mess',\n",
       "   'year': '2006',\n",
       "   'version': 'v11',\n",
       "   'path': '/data/spice/mess-e_v_h-spice-6-v1.0/messsp_1000/extras/mk/msgr_2006_v11.tm'},\n",
       "  {'mission': 'mess',\n",
       "   'year': '2006',\n",
       "   'version': 'v12',\n",
       "   'path': '/data/spice/mess-e_v_h-spice-6-v1.0/messsp_1000/extras/mk/msgr_2006_v12.tm'},\n",
       "  {'mission': 'mess',\n",
       "   'year': '2006',\n",
       "   'version': 'v13',\n",
       "   'path': '/data/spice/mess-e_v_h-spice-6-v1.0/messsp_1000/extras/mk/msgr_2006_v13.tm'},\n",
       "  {'mission': 'mess',\n",
       "   'year': '2007',\n",
       "   'version': 'v01',\n",
       "   'path': '/data/spice/mess-e_v_h-spice-6-v1.0/messsp_1000/extras/mk/msgr_2007_v01.tm'},\n",
       "  {'mission': 'mess',\n",
       "   'year': '2007',\n",
       "   'version': 'v02',\n",
       "   'path': '/data/spice/mess-e_v_h-spice-6-v1.0/messsp_1000/extras/mk/msgr_2007_v02.tm'},\n",
       "  {'mission': 'mess',\n",
       "   'year': '2007',\n",
       "   'version': 'v03',\n",
       "   'path': '/data/spice/mess-e_v_h-spice-6-v1.0/messsp_1000/extras/mk/msgr_2007_v03.tm'},\n",
       "  {'mission': 'mess',\n",
       "   'year': '2007',\n",
       "   'version': 'v04',\n",
       "   'path': '/data/spice/mess-e_v_h-spice-6-v1.0/messsp_1000/extras/mk/msgr_2007_v04.tm'},\n",
       "  {'mission': 'mess',\n",
       "   'year': '2007',\n",
       "   'version': 'v05',\n",
       "   'path': '/data/spice/mess-e_v_h-spice-6-v1.0/messsp_1000/extras/mk/msgr_2007_v05.tm'},\n",
       "  {'mission': 'mess',\n",
       "   'year': '2007',\n",
       "   'version': 'v06',\n",
       "   'path': '/data/spice/mess-e_v_h-spice-6-v1.0/messsp_1000/extras/mk/msgr_2007_v06.tm'},\n",
       "  {'mission': 'mess',\n",
       "   'year': '2007',\n",
       "   'version': 'v07',\n",
       "   'path': '/data/spice/mess-e_v_h-spice-6-v1.0/messsp_1000/extras/mk/msgr_2007_v07.tm'},\n",
       "  {'mission': 'mess',\n",
       "   'year': '2007',\n",
       "   'version': 'v08',\n",
       "   'path': '/data/spice/mess-e_v_h-spice-6-v1.0/messsp_1000/extras/mk/msgr_2007_v08.tm'},\n",
       "  {'mission': 'mess',\n",
       "   'year': '2007',\n",
       "   'version': 'v09',\n",
       "   'path': '/data/spice/mess-e_v_h-spice-6-v1.0/messsp_1000/extras/mk/msgr_2007_v09.tm'},\n",
       "  {'mission': 'mess',\n",
       "   'year': '2007',\n",
       "   'version': 'v10',\n",
       "   'path': '/data/spice/mess-e_v_h-spice-6-v1.0/messsp_1000/extras/mk/msgr_2007_v10.tm'},\n",
       "  {'mission': 'mess',\n",
       "   'year': '2007',\n",
       "   'version': 'v11',\n",
       "   'path': '/data/spice/mess-e_v_h-spice-6-v1.0/messsp_1000/extras/mk/msgr_2007_v11.tm'},\n",
       "  {'mission': 'mess',\n",
       "   'year': '2007',\n",
       "   'version': 'v12',\n",
       "   'path': '/data/spice/mess-e_v_h-spice-6-v1.0/messsp_1000/extras/mk/msgr_2007_v12.tm'},\n",
       "  {'mission': 'mess',\n",
       "   'year': '2007',\n",
       "   'version': 'v13',\n",
       "   'path': '/data/spice/mess-e_v_h-spice-6-v1.0/messsp_1000/extras/mk/msgr_2007_v13.tm'},\n",
       "  {'mission': 'mess',\n",
       "   'year': '2008',\n",
       "   'version': 'v01',\n",
       "   'path': '/data/spice/mess-e_v_h-spice-6-v1.0/messsp_1000/extras/mk/msgr_2008_v01.tm'},\n",
       "  {'mission': 'mess',\n",
       "   'year': '2008',\n",
       "   'version': 'v02',\n",
       "   'path': '/data/spice/mess-e_v_h-spice-6-v1.0/messsp_1000/extras/mk/msgr_2008_v02.tm'},\n",
       "  {'mission': 'mess',\n",
       "   'year': '2008',\n",
       "   'version': 'v03',\n",
       "   'path': '/data/spice/mess-e_v_h-spice-6-v1.0/messsp_1000/extras/mk/msgr_2008_v03.tm'},\n",
       "  {'mission': 'mess',\n",
       "   'year': '2008',\n",
       "   'version': 'v04',\n",
       "   'path': '/data/spice/mess-e_v_h-spice-6-v1.0/messsp_1000/extras/mk/msgr_2008_v04.tm'},\n",
       "  {'mission': 'mess',\n",
       "   'year': '2008',\n",
       "   'version': 'v05',\n",
       "   'path': '/data/spice/mess-e_v_h-spice-6-v1.0/messsp_1000/extras/mk/msgr_2008_v05.tm'},\n",
       "  {'mission': 'mess',\n",
       "   'year': '2008',\n",
       "   'version': 'v06',\n",
       "   'path': '/data/spice/mess-e_v_h-spice-6-v1.0/messsp_1000/extras/mk/msgr_2008_v06.tm'},\n",
       "  {'mission': 'mess',\n",
       "   'year': '2008',\n",
       "   'version': 'v07',\n",
       "   'path': '/data/spice/mess-e_v_h-spice-6-v1.0/messsp_1000/extras/mk/msgr_2008_v07.tm'},\n",
       "  {'mission': 'mess',\n",
       "   'year': '2008',\n",
       "   'version': 'v08',\n",
       "   'path': '/data/spice/mess-e_v_h-spice-6-v1.0/messsp_1000/extras/mk/msgr_2008_v08.tm'},\n",
       "  {'mission': 'mess',\n",
       "   'year': '2008',\n",
       "   'version': 'v09',\n",
       "   'path': '/data/spice/mess-e_v_h-spice-6-v1.0/messsp_1000/extras/mk/msgr_2008_v09.tm'},\n",
       "  {'mission': 'mess',\n",
       "   'year': '2008',\n",
       "   'version': 'v10',\n",
       "   'path': '/data/spice/mess-e_v_h-spice-6-v1.0/messsp_1000/extras/mk/msgr_2008_v10.tm'},\n",
       "  {'mission': 'mess',\n",
       "   'year': '2008',\n",
       "   'version': 'v11',\n",
       "   'path': '/data/spice/mess-e_v_h-spice-6-v1.0/messsp_1000/extras/mk/msgr_2008_v11.tm'},\n",
       "  {'mission': 'mess',\n",
       "   'year': '2008',\n",
       "   'version': 'v12',\n",
       "   'path': '/data/spice/mess-e_v_h-spice-6-v1.0/messsp_1000/extras/mk/msgr_2008_v12.tm'},\n",
       "  {'mission': 'mess',\n",
       "   'year': '2009',\n",
       "   'version': 'v01',\n",
       "   'path': '/data/spice/mess-e_v_h-spice-6-v1.0/messsp_1000/extras/mk/msgr_2009_v01.tm'},\n",
       "  {'mission': 'mess',\n",
       "   'year': '2009',\n",
       "   'version': 'v02',\n",
       "   'path': '/data/spice/mess-e_v_h-spice-6-v1.0/messsp_1000/extras/mk/msgr_2009_v02.tm'},\n",
       "  {'mission': 'mess',\n",
       "   'year': '2009',\n",
       "   'version': 'v03',\n",
       "   'path': '/data/spice/mess-e_v_h-spice-6-v1.0/messsp_1000/extras/mk/msgr_2009_v03.tm'},\n",
       "  {'mission': 'mess',\n",
       "   'year': '2009',\n",
       "   'version': 'v04',\n",
       "   'path': '/data/spice/mess-e_v_h-spice-6-v1.0/messsp_1000/extras/mk/msgr_2009_v04.tm'},\n",
       "  {'mission': 'mess',\n",
       "   'year': '2009',\n",
       "   'version': 'v05',\n",
       "   'path': '/data/spice/mess-e_v_h-spice-6-v1.0/messsp_1000/extras/mk/msgr_2009_v05.tm'},\n",
       "  {'mission': 'mess',\n",
       "   'year': '2009',\n",
       "   'version': 'v06',\n",
       "   'path': '/data/spice/mess-e_v_h-spice-6-v1.0/messsp_1000/extras/mk/msgr_2009_v06.tm'},\n",
       "  {'mission': 'mess',\n",
       "   'year': '2009',\n",
       "   'version': 'v07',\n",
       "   'path': '/data/spice/mess-e_v_h-spice-6-v1.0/messsp_1000/extras/mk/msgr_2009_v07.tm'},\n",
       "  {'mission': 'mess',\n",
       "   'year': '2009',\n",
       "   'version': 'v08',\n",
       "   'path': '/data/spice/mess-e_v_h-spice-6-v1.0/messsp_1000/extras/mk/msgr_2009_v08.tm'},\n",
       "  {'mission': 'mess',\n",
       "   'year': '2009',\n",
       "   'version': 'v09',\n",
       "   'path': '/data/spice/mess-e_v_h-spice-6-v1.0/messsp_1000/extras/mk/msgr_2009_v09.tm'},\n",
       "  {'mission': 'mess',\n",
       "   'year': '2009',\n",
       "   'version': 'v10',\n",
       "   'path': '/data/spice/mess-e_v_h-spice-6-v1.0/messsp_1000/extras/mk/msgr_2009_v10.tm'},\n",
       "  {'mission': 'mess',\n",
       "   'year': '2010',\n",
       "   'version': 'v01',\n",
       "   'path': '/data/spice/mess-e_v_h-spice-6-v1.0/messsp_1000/extras/mk/msgr_2010_v01.tm'},\n",
       "  {'mission': 'mess',\n",
       "   'year': '2010',\n",
       "   'version': 'v02',\n",
       "   'path': '/data/spice/mess-e_v_h-spice-6-v1.0/messsp_1000/extras/mk/msgr_2010_v02.tm'},\n",
       "  {'mission': 'mess',\n",
       "   'year': '2010',\n",
       "   'version': 'v03',\n",
       "   'path': '/data/spice/mess-e_v_h-spice-6-v1.0/messsp_1000/extras/mk/msgr_2010_v03.tm'},\n",
       "  {'mission': 'mess',\n",
       "   'year': '2010',\n",
       "   'version': 'v04',\n",
       "   'path': '/data/spice/mess-e_v_h-spice-6-v1.0/messsp_1000/extras/mk/msgr_2010_v04.tm'},\n",
       "  {'mission': 'mess',\n",
       "   'year': '2010',\n",
       "   'version': 'v05',\n",
       "   'path': '/data/spice/mess-e_v_h-spice-6-v1.0/messsp_1000/extras/mk/msgr_2010_v05.tm'},\n",
       "  {'mission': 'mess',\n",
       "   'year': '2010',\n",
       "   'version': 'v06',\n",
       "   'path': '/data/spice/mess-e_v_h-spice-6-v1.0/messsp_1000/extras/mk/msgr_2010_v06.tm'},\n",
       "  {'mission': 'mess',\n",
       "   'year': '2010',\n",
       "   'version': 'v07',\n",
       "   'path': '/data/spice/mess-e_v_h-spice-6-v1.0/messsp_1000/extras/mk/msgr_2010_v07.tm'},\n",
       "  {'mission': 'mess',\n",
       "   'year': '2010',\n",
       "   'version': 'v08',\n",
       "   'path': '/data/spice/mess-e_v_h-spice-6-v1.0/messsp_1000/extras/mk/msgr_2010_v08.tm'},\n",
       "  {'mission': 'mess',\n",
       "   'year': '2010',\n",
       "   'version': 'v09',\n",
       "   'path': '/data/spice/mess-e_v_h-spice-6-v1.0/messsp_1000/extras/mk/msgr_2010_v09.tm'},\n",
       "  {'mission': 'mess',\n",
       "   'year': '2011',\n",
       "   'version': 'v01',\n",
       "   'path': '/data/spice/mess-e_v_h-spice-6-v1.0/messsp_1000/extras/mk/msgr_2011_v01.tm'},\n",
       "  {'mission': 'mess',\n",
       "   'year': '2011',\n",
       "   'version': 'v02',\n",
       "   'path': '/data/spice/mess-e_v_h-spice-6-v1.0/messsp_1000/extras/mk/msgr_2011_v02.tm'},\n",
       "  {'mission': 'mess',\n",
       "   'year': '2011',\n",
       "   'version': 'v03',\n",
       "   'path': '/data/spice/mess-e_v_h-spice-6-v1.0/messsp_1000/extras/mk/msgr_2011_v03.tm'},\n",
       "  {'mission': 'mess',\n",
       "   'year': '2011',\n",
       "   'version': 'v04',\n",
       "   'path': '/data/spice/mess-e_v_h-spice-6-v1.0/messsp_1000/extras/mk/msgr_2011_v04.tm'},\n",
       "  {'mission': 'mess',\n",
       "   'year': '2011',\n",
       "   'version': 'v05',\n",
       "   'path': '/data/spice/mess-e_v_h-spice-6-v1.0/messsp_1000/extras/mk/msgr_2011_v05.tm'},\n",
       "  {'mission': 'mess',\n",
       "   'year': '2011',\n",
       "   'version': 'v06',\n",
       "   'path': '/data/spice/mess-e_v_h-spice-6-v1.0/messsp_1000/extras/mk/msgr_2011_v06.tm'},\n",
       "  {'mission': 'mess',\n",
       "   'year': '2011',\n",
       "   'version': 'v07',\n",
       "   'path': '/data/spice/mess-e_v_h-spice-6-v1.0/messsp_1000/extras/mk/msgr_2011_v07.tm'},\n",
       "  {'mission': 'mess',\n",
       "   'year': '2011',\n",
       "   'version': 'v08',\n",
       "   'path': '/data/spice/mess-e_v_h-spice-6-v1.0/messsp_1000/extras/mk/msgr_2011_v08.tm'},\n",
       "  {'mission': 'mess',\n",
       "   'year': '2011',\n",
       "   'version': 'v09',\n",
       "   'path': '/data/spice/mess-e_v_h-spice-6-v1.0/messsp_1000/extras/mk/msgr_2011_v09.tm'},\n",
       "  {'mission': 'mess',\n",
       "   'year': '2011',\n",
       "   'version': 'v10',\n",
       "   'path': '/data/spice/mess-e_v_h-spice-6-v1.0/messsp_1000/extras/mk/msgr_2011_v10.tm'},\n",
       "  {'mission': 'mess',\n",
       "   'year': '2012',\n",
       "   'version': 'v01',\n",
       "   'path': '/data/spice/mess-e_v_h-spice-6-v1.0/messsp_1000/extras/mk/msgr_2012_v01.tm'},\n",
       "  {'mission': 'mess',\n",
       "   'year': '2012',\n",
       "   'version': 'v02',\n",
       "   'path': '/data/spice/mess-e_v_h-spice-6-v1.0/messsp_1000/extras/mk/msgr_2012_v02.tm'},\n",
       "  {'mission': 'mess',\n",
       "   'year': '2012',\n",
       "   'version': 'v03',\n",
       "   'path': '/data/spice/mess-e_v_h-spice-6-v1.0/messsp_1000/extras/mk/msgr_2012_v03.tm'},\n",
       "  {'mission': 'mess',\n",
       "   'year': '2012',\n",
       "   'version': 'v04',\n",
       "   'path': '/data/spice/mess-e_v_h-spice-6-v1.0/messsp_1000/extras/mk/msgr_2012_v04.tm'},\n",
       "  {'mission': 'mess',\n",
       "   'year': '2012',\n",
       "   'version': 'v05',\n",
       "   'path': '/data/spice/mess-e_v_h-spice-6-v1.0/messsp_1000/extras/mk/msgr_2012_v05.tm'},\n",
       "  {'mission': 'mess',\n",
       "   'year': '2012',\n",
       "   'version': 'v06',\n",
       "   'path': '/data/spice/mess-e_v_h-spice-6-v1.0/messsp_1000/extras/mk/msgr_2012_v06.tm'},\n",
       "  {'mission': 'mess',\n",
       "   'year': '2012',\n",
       "   'version': 'v07',\n",
       "   'path': '/data/spice/mess-e_v_h-spice-6-v1.0/messsp_1000/extras/mk/msgr_2012_v07.tm'},\n",
       "  {'mission': 'mess',\n",
       "   'year': '2012',\n",
       "   'version': 'v08',\n",
       "   'path': '/data/spice/mess-e_v_h-spice-6-v1.0/messsp_1000/extras/mk/msgr_2012_v08.tm'},\n",
       "  {'mission': 'mess',\n",
       "   'year': '2013',\n",
       "   'version': 'v01',\n",
       "   'path': '/data/spice/mess-e_v_h-spice-6-v1.0/messsp_1000/extras/mk/msgr_2013_v01.tm'},\n",
       "  {'mission': 'mess',\n",
       "   'year': '2013',\n",
       "   'version': 'v02',\n",
       "   'path': '/data/spice/mess-e_v_h-spice-6-v1.0/messsp_1000/extras/mk/msgr_2013_v02.tm'},\n",
       "  {'mission': 'mess',\n",
       "   'year': '2013',\n",
       "   'version': 'v03',\n",
       "   'path': '/data/spice/mess-e_v_h-spice-6-v1.0/messsp_1000/extras/mk/msgr_2013_v03.tm'},\n",
       "  {'mission': 'mess',\n",
       "   'year': '2013',\n",
       "   'version': 'v04',\n",
       "   'path': '/data/spice/mess-e_v_h-spice-6-v1.0/messsp_1000/extras/mk/msgr_2013_v04.tm'},\n",
       "  {'mission': 'mess',\n",
       "   'year': '2013',\n",
       "   'version': 'v05',\n",
       "   'path': '/data/spice/mess-e_v_h-spice-6-v1.0/messsp_1000/extras/mk/msgr_2013_v05.tm'},\n",
       "  {'mission': 'mess',\n",
       "   'year': '2013',\n",
       "   'version': 'v06',\n",
       "   'path': '/data/spice/mess-e_v_h-spice-6-v1.0/messsp_1000/extras/mk/msgr_2013_v06.tm'},\n",
       "  {'mission': 'mess',\n",
       "   'year': '2014',\n",
       "   'version': 'v01',\n",
       "   'path': '/data/spice/mess-e_v_h-spice-6-v1.0/messsp_1000/extras/mk/msgr_2014_v01.tm'},\n",
       "  {'mission': 'mess',\n",
       "   'year': '2014',\n",
       "   'version': 'v02',\n",
       "   'path': '/data/spice/mess-e_v_h-spice-6-v1.0/messsp_1000/extras/mk/msgr_2014_v02.tm'},\n",
       "  {'mission': 'mess',\n",
       "   'year': '2014',\n",
       "   'version': 'v03',\n",
       "   'path': '/data/spice/mess-e_v_h-spice-6-v1.0/messsp_1000/extras/mk/msgr_2014_v03.tm'},\n",
       "  {'mission': 'mess',\n",
       "   'year': '2014',\n",
       "   'version': 'v04',\n",
       "   'path': '/data/spice/mess-e_v_h-spice-6-v1.0/messsp_1000/extras/mk/msgr_2014_v04.tm'},\n",
       "  {'mission': 'mess',\n",
       "   'year': '2015',\n",
       "   'version': 'v01',\n",
       "   'path': '/data/spice/mess-e_v_h-spice-6-v1.0/messsp_1000/extras/mk/msgr_2015_v01.tm'},\n",
       "  {'mission': 'mess',\n",
       "   'year': '2015',\n",
       "   'version': 'v02',\n",
       "   'path': '/data/spice/mess-e_v_h-spice-6-v1.0/messsp_1000/extras/mk/msgr_2015_v02.tm'}]}"
      ]
     },
     "execution_count": 65,
     "metadata": {},
     "output_type": "execute_result"
    }
   ],
   "source": [
    "get_metakernels()"
   ]
  },
  {
   "cell_type": "code",
   "execution_count": null,
   "metadata": {},
   "outputs": [],
   "source": []
  }
 ],
 "metadata": {
  "kernelspec": {
   "display_name": "Python 3",
   "language": "python",
   "name": "python3"
  },
  "language_info": {
   "codemirror_mode": {
    "name": "ipython",
    "version": 3
   },
   "file_extension": ".py",
   "mimetype": "text/x-python",
   "name": "python",
   "nbconvert_exporter": "python",
   "pygments_lexer": "ipython3",
   "version": "3.7.0"
  }
 },
 "nbformat": 4,
 "nbformat_minor": 2
}
