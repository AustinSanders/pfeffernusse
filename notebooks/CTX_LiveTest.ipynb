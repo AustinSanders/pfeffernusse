{
 "cells": [
  {
   "cell_type": "code",
   "execution_count": 1,
   "metadata": {},
   "outputs": [],
   "source": [
    "import ctypes\n",
    "import json\n",
    "\n",
    "import requests\n",
    "import csmapi"
   ]
  },
  {
   "cell_type": "code",
   "execution_count": 2,
   "metadata": {},
   "outputs": [
    {
     "data": {
      "text/plain": [
       "<CDLL '/data/big/github/CSM-CameraModel/build/libusgscsm.so', handle 29b17c0 at 0x7fbaffcf34e0>"
      ]
     },
     "execution_count": 2,
     "metadata": {},
     "output_type": "execute_result"
    }
   ],
   "source": [
    "lib = '/data/big/github/CSM-CameraModel/build/libusgscsm.so'\n",
    "ctypes.CDLL(lib)"
   ]
  },
  {
   "cell_type": "code",
   "execution_count": 3,
   "metadata": {},
   "outputs": [],
   "source": [
    "label = \"\"\"\n",
    "PDS_VERSION_ID = PDS3                                                         \n",
    "FILE_NAME = \"J03_045994_1986_XN_18N282W.IMG\"                                  \n",
    "RECORD_TYPE = FIXED_LENGTH                                                    \n",
    "RECORD_BYTES = 5056                                                           \n",
    "FILE_RECORDS = 17409                                                          \n",
    "LABEL_RECORDS = 1                                                             \n",
    "^IMAGE = 2                                                                    \n",
    "SPACECRAFT_NAME = MARS_RECONNAISSANCE_ORBITER                                 \n",
    "INSTRUMENT_NAME = \"CONTEXT CAMERA\"                                            \n",
    "INSTRUMENT_HOST_NAME = \"MARS RECONNAISSANCE ORBITER\"                          \n",
    "MISSION_PHASE_NAME = \"ESP\"                                                    \n",
    "TARGET_NAME = MARS                                                            \n",
    "INSTRUMENT_ID = CTX                                                           \n",
    "PRODUCER_ID = MRO_CTX_TEAM                                                    \n",
    "DATA_SET_ID = \"MRO-M-CTX-2-EDR-L0-V1.0\"                                       \n",
    "PRODUCT_CREATION_TIME = 2016-10-04T20:55:10                                   \n",
    "SOFTWARE_NAME = \"makepds05 $Revision: 1.16 $\"                                 \n",
    "UPLOAD_ID = \"UNK\"                                                             \n",
    "ORIGINAL_PRODUCT_ID = \"4A_04_10E802EF00\"                                      \n",
    "PRODUCT_ID = \"J03_045994_1986_XN_18N282W\"                                     \n",
    "START_TIME = 2016-05-19T08:25:22.197                                          \n",
    "STOP_TIME = 2016-05-19T08:25:54.867                                           \n",
    "SPACECRAFT_CLOCK_START_COUNT = \"1148113565:138\"                               \n",
    "SPACECRAFT_CLOCK_STOP_COUNT = \"N/A\"                                           \n",
    "FOCAL_PLANE_TEMPERATURE = 296.0 <K>                                           \n",
    "SAMPLE_BIT_MODE_ID = \"SQROOT\"                                                 \n",
    "OFFSET_MODE_ID = \"197/230/219\"                                                \n",
    "LINE_EXPOSURE_DURATION = 1.877 <MSEC>                                         \n",
    "SAMPLING_FACTOR = 1                                                           \n",
    "SAMPLE_FIRST_PIXEL = 0                                                        \n",
    "RATIONALE_DESC = \"Ride-along with HiRISE\"                                     \n",
    "DATA_QUALITY_DESC = \"OK\"                                                      \n",
    "ORBIT_NUMBER = 45994                                                          \n",
    "OBJECT = IMAGE                                                                \n",
    "LINES = 17408                                                                 \n",
    "LINE_SAMPLES = 5056                                                           \n",
    "LINE_PREFIX_BYTES = 0                                                         \n",
    "LINE_SUFFIX_BYTES = 0                                                         \n",
    "SAMPLE_TYPE = UNSIGNED_INTEGER                                                \n",
    "SAMPLE_BITS = 8                                                               \n",
    "SAMPLE_BIT_MASK = 2#11111111#                                                 \n",
    "CHECKSUM = 16#B79E51AD#                                                       \n",
    "END_OBJECT = IMAGE                                                            \n",
    "END    \n",
    "\"\"\""
   ]
  },
  {
   "cell_type": "code",
   "execution_count": 4,
   "metadata": {},
   "outputs": [],
   "source": [
    "resp = requests.post('http://smalls:58080/v1/pds/', json={\"label\":label})\n",
    "with open('/home/jlaura/J03_045994_1986_XN_18N282W.json', 'w') as f:\n",
    "    d = resp.json()\n",
    "    json.dump(d, f)\n",
    "    "
   ]
  },
  {
   "cell_type": "code",
   "execution_count": 5,
   "metadata": {},
   "outputs": [],
   "source": [
    "plugin = csmapi.Plugin.findPlugin('UsgsAstroPluginCSM')\n",
    "isd = csmapi.Isd('/home/jlaura/J03_045994_1986_XN_18N282W.json')\n",
    "model_name = resp.json()['name_model']"
   ]
  },
  {
   "cell_type": "code",
   "execution_count": 6,
   "metadata": {},
   "outputs": [],
   "source": [
    "if plugin.canModelBeConstructedFromISD(isd, model_name):\n",
    "    model = plugin.constructModelFromISD(isd, model_name)"
   ]
  },
  {
   "cell_type": "code",
   "execution_count": 7,
   "metadata": {},
   "outputs": [
    {
     "data": {
      "text/plain": [
       "(17408.0, 5056.0)"
      ]
     },
     "execution_count": 7,
     "metadata": {},
     "output_type": "execute_result"
    }
   ],
   "source": [
    "isize = model.getImageSize()\n",
    "isize.line, isize.samp"
   ]
  },
  {
   "cell_type": "code",
   "execution_count": 8,
   "metadata": {},
   "outputs": [
    {
     "data": {
      "text/plain": [
       "(696070.2343516317, 3166414.4908178337, 1011973.9449652347)"
      ]
     },
     "execution_count": 8,
     "metadata": {},
     "output_type": "execute_result"
    }
   ],
   "source": [
    "ic = csmapi.ImageCoord(100, 100)\n",
    "gnd = model.imageToGround(ic, 100)\n",
    "gnd.x, gnd.y, gnd.z"
   ]
  },
  {
   "cell_type": "code",
   "execution_count": null,
   "metadata": {},
   "outputs": [],
   "source": []
  }
 ],
 "metadata": {
  "anaconda-cloud": {},
  "kernelspec": {
   "display_name": "Python 3",
   "language": "python",
   "name": "python3"
  },
  "language_info": {
   "codemirror_mode": {
    "name": "ipython",
    "version": 3
   },
   "file_extension": ".py",
   "mimetype": "text/x-python",
   "name": "python",
   "nbconvert_exporter": "python",
   "pygments_lexer": "ipython3",
   "version": "3.6.6"
  }
 },
 "nbformat": 4,
 "nbformat_minor": 2
}
