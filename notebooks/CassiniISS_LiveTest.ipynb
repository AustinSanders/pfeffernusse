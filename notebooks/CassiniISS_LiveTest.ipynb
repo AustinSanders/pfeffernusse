{
 "cells": [
  {
   "cell_type": "code",
   "execution_count": 3,
   "metadata": {},
   "outputs": [],
   "source": [
    "import ctypes\n",
    "import json\n",
    "\n",
    "import requests\n",
    "import csmapi"
   ]
  },
  {
   "cell_type": "code",
   "execution_count": 4,
   "metadata": {},
   "outputs": [
    {
     "data": {
      "text/plain": [
       "<CDLL '/home/jlaura/anaconda3/envs/ct/lib/libusgscsm.so', handle 1f60be0 at 0x7f190c0fb278>"
      ]
     },
     "execution_count": 4,
     "metadata": {},
     "output_type": "execute_result"
    }
   ],
   "source": [
    "lib = '/home/jlaura/anaconda3/envs/ct/lib/libusgscsm.so'\n",
    "ctypes.CDLL(lib)"
   ]
  },
  {
   "cell_type": "code",
   "execution_count": 5,
   "metadata": {},
   "outputs": [],
   "source": [
    "label = \"\"\"\n",
    "PDS_VERSION_ID = PDS3\n",
    "\n",
    "/* FILE CHARACTERISTICS */\n",
    "\n",
    "RECORD_TYPE = FIXED_LENGTH\n",
    "RECORD_BYTES = 1048\n",
    "FILE_RECORDS = 1028\n",
    "\n",
    "/* POINTERS TO DATA OBJECTS */\n",
    "\n",
    "^IMAGE_HEADER = (\"N1489050409_2.IMG\",1)\n",
    "^TELEMETRY_TABLE = (\"N1489050409_2.IMG\",4)\n",
    "^LINE_PREFIX_TABLE = (\"N1489050409_2.IMG\",5)\n",
    "^IMAGE = (\"N1489050409_2.IMG\",5)\n",
    "\n",
    "/* IDENTIFICATION DATA ELEMENTS */\n",
    "\n",
    "ANTIBLOOMING_STATE_FLAG = \"ON\"\n",
    "BIAS_STRIP_MEAN = 17.775930\n",
    "CALIBRATION_LAMP_STATE_FLAG = \"N/A\"\n",
    "COMMAND_FILE_NAME = \"trigger_3500_2.ioi\"\n",
    "COMMAND_SEQUENCE_NUMBER = 3500\n",
    "DARK_STRIP_MEAN = 8.000000\n",
    "DATA_CONVERSION_TYPE = \"TABLE\"\n",
    "DATA_SET_ID = \"CO-S-ISSNA/ISSWA-2-EDR-V1.0\"\n",
    "DELAYED_READOUT_FLAG = \"NO\"\n",
    "DESCRIPTION = \"Incomplete product finalized due to truncated lines.\"\n",
    "DETECTOR_TEMPERATURE = -89.318428 <DEGC>\n",
    "EARTH_RECEIVED_START_TIME = 2005-068T18:14:59.874\n",
    "EARTH_RECEIVED_STOP_TIME = 2005-068T18:15:50.198\n",
    "ELECTRONICS_BIAS = 112\n",
    "EXPECTED_MAXIMUM = (20.075399,51.700699)\n",
    "EXPECTED_PACKETS = 576\n",
    "EXPOSURE_DURATION = 1500.000000\n",
    "FILTER_NAME = (\"CL1\",\"UV3\")\n",
    "FILTER_TEMPERATURE = -0.468354\n",
    "FLIGHT_SOFTWARE_VERSION_ID = \"1.3\"\n",
    "GAIN_MODE_ID = \"12 ELECTRONS PER DN\"\n",
    "IMAGE_MID_TIME = 2005-068T08:40:12.294\n",
    "IMAGE_NUMBER = \"1489050409\"\n",
    "IMAGE_OBSERVATION_TYPE = {\"SCIENCE\"}\n",
    "IMAGE_TIME = 2005-068T08:40:13.044\n",
    "INSTRUMENT_DATA_RATE = 182.783997\n",
    "INSTRUMENT_HOST_NAME = \"CASSINI ORBITER\"\n",
    "INSTRUMENT_ID = \"ISSNA\"\n",
    "INSTRUMENT_MODE_ID = \"FULL\"\n",
    "INSTRUMENT_NAME = \"IMAGING SCIENCE SUBSYSTEM NARROW ANGLE\"\n",
    "INST_CMPRS_PARAM = (\"N/A\",\"N/A\",\"N/A\",\"N/A\")\n",
    "INST_CMPRS_RATE = (5.333330,4.344592)\n",
    "INST_CMPRS_RATIO = 1.841370\n",
    "INST_CMPRS_TYPE = \"LOSSLESS\"\n",
    "LIGHT_FLOOD_STATE_FLAG = \"ON\"\n",
    "METHOD_DESC = \"ISSPT2.6.1;Enceladus;ISS_004EN_REGEO002_PRIME_7\"\n",
    "MISSING_LINES = 512\n",
    "MISSING_PACKET_FLAG = \"NO\"\n",
    "MISSION_NAME = \"CASSINI-HUYGENS\"\n",
    "MISSION_PHASE_NAME = \"TOUR\"\n",
    "OBSERVATION_ID = \"ISS_004EN_REGEO002_PRIME\"\n",
    "OPTICS_TEMPERATURE = (0.797890,1.905708)\n",
    "ORDER_NUMBER = 55\n",
    "PARALLEL_CLOCK_VOLTAGE_INDEX = 9\n",
    "PREPARE_CYCLE_INDEX = 1\n",
    "PRODUCT_CREATION_TIME = 2005-068T15:14:19.000\n",
    "PRODUCT_ID = \"1_N1489050409.118\"\n",
    "PRODUCT_VERSION_TYPE = \"FINAL\"\n",
    "READOUT_CYCLE_INDEX = 10\n",
    "RECEIVED_PACKETS = 576\n",
    "SENSOR_HEAD_ELEC_TEMPERATURE = 1.633024\n",
    "SEQUENCE_ID = \"S09\"\n",
    "SEQUENCE_NUMBER = 55\n",
    "SEQUENCE_TITLE = \"ISS_004EN_REGEO002_PRIME\"\n",
    "SHUTTER_MODE_ID = \"NACONLY\"\n",
    "SHUTTER_STATE_ID = \"ENABLED\"\n",
    "SOFTWARE_VERSION_ID = \"ISS 9.00 02-05-2004\"\n",
    "SPACECRAFT_CLOCK_CNT_PARTITION = 1\n",
    "SPACECRAFT_CLOCK_START_COUNT = \"1489050407.243\"\n",
    "SPACECRAFT_CLOCK_STOP_COUNT = \"1489050409.118\"\n",
    "START_TIME = 2005-068T08:40:11.544\n",
    "STOP_TIME = 2005-068T08:40:13.044\n",
    "TARGET_DESC = \"Enceladus\"\n",
    "TARGET_LIST = \"N/A\"\n",
    "TARGET_NAME = \"ENCELADUS\"\n",
    "TELEMETRY_FORMAT_ID = \"UNK\"\n",
    "VALID_MAXIMUM = (9896,4095)\n",
    "OBJECT = IMAGE_HEADER\n",
    "      INTERCHANGE_FORMAT = ASCII\n",
    "      HEADER_TYPE = VICAR2\n",
    "       BYTES = 3144\n",
    "      RECORDS = 1\n",
    "      ^DESCRIPTION = \"VICAR2.TXT\"\n",
    "END_OBJECT = IMAGE_HEADER\n",
    "OBJECT = TELEMETRY_TABLE\n",
    "      INTERCHANGE_FORMAT = BINARY\n",
    "      ROWS = 1\n",
    "      COLUMNS = 2\n",
    "      ROW_BYTES = 1048\n",
    "      ^STRUCTURE = \"TLMTAB.FMT\"\n",
    "      OBJECT = COLUMN\n",
    "            NAME = NULL_PADDING\n",
    "            DATA_TYPE = MSB_UNSIGNED_INTEGER\n",
    "            START_BYTE = 61\n",
    "            BYTES = 987\n",
    "      END_OBJECT = COLUMN\n",
    "END_OBJECT = TELEMETRY_TABLE\n",
    "OBJECT = LINE_PREFIX_TABLE\n",
    "      INTERCHANGE_FORMAT = BINARY\n",
    "      ROWS = 1024\n",
    "      COLUMNS = 7\n",
    "      ROW_BYTES = 24\n",
    "      ROW_SUFFIX_BYTES = 1024\n",
    "      ^LINE_PREFIX_STRUCTURE = \"PREFIX2.FMT\"\n",
    "END_OBJECT = LINE_PREFIX_TABLE\n",
    "OBJECT = IMAGE\n",
    "      LINES = 1024\n",
    "      LINE_SAMPLES = 1024\n",
    "      SAMPLE_BITS = 8\n",
    "      SAMPLE_TYPE = SUN_INTEGER\n",
    "      LINE_PREFIX_BYTES = 24\n",
    "END_OBJECT = IMAGE\n",
    "END\n",
    "\"\"\""
   ]
  },
  {
   "cell_type": "code",
   "execution_count": 10,
   "metadata": {},
   "outputs": [],
   "source": [
    "resp = requests.post('http://smalls:58080/v1/pds/', json={\"label\":label})\n",
    "with open('/home/jlaura/Downloads/N1489050409_2.json', 'w') as f:\n",
    "    json.dump(resp.json(), f)"
   ]
  },
  {
   "cell_type": "code",
   "execution_count": 11,
   "metadata": {},
   "outputs": [
    {
     "data": {
      "text/plain": [
       "{'center_ephemeris_time': 163630443.71813414,\n",
       " 'detector_center': {'line': 512.5, 'sample': 512.5},\n",
       " 'detector_line_summing': 1.0,\n",
       " 'detector_sample_summing': 1.0,\n",
       " 'focal2pixel_lines': [0.0, 0.0, 83.33333333333333],\n",
       " 'focal2pixel_samples': [0.0, 83.33333333333333, 0.0],\n",
       " 'focal_length_model': {'focal_epsilon': 0.03, 'focal_length': 2003.44},\n",
       " 'image_lines': 1024.0,\n",
       " 'image_samples': 1024.0,\n",
       " 'interpolation_method': 'lagrange',\n",
       " 'name_model': 'USGS_ASTRO_FRAME_SENSOR_MODEL',\n",
       " 'name_platform': 'CASSINI',\n",
       " 'name_sensor': 'CASSINI_ISS_NAC',\n",
       " 'optical_distortion': {'radial': {'coefficients': [-0.08, 0.0, 0.0]}},\n",
       " 'radii': {'semimajor': 251.4, 'semiminor': 256.6, 'unit': 'km'},\n",
       " 'reference_height': {'maxheight': 100.0, 'minheight': 0.0, 'unit': 'm'},\n",
       " 'sensor_orientation': {'quaternions': [[0.6083454344690649,\n",
       "    0.3302782806618999,\n",
       "    0.3166295581189714,\n",
       "    0.6485197087283077]]},\n",
       " 'sensor_position': {'positions': [[-9050420.04818009,\n",
       "    6346569.628145334,\n",
       "    -468762.131316652]],\n",
       "  'unit': 'm',\n",
       "  'velocities': [[5987.671859663068, -2980.9641458115493, 56.23443419333351]]},\n",
       " 'starting_detector_line': 1.0,\n",
       " 'starting_detector_sample': 1.0,\n",
       " 'starting_ephemeris_time': 163629675.71813414,\n",
       " 'sun_position': {'positions': [[-283757813.91353136,\n",
       "    1221433228.133716,\n",
       "    -516244375.8893728,\n",
       "    64816.61714725404]],\n",
       "  'unit': 'm',\n",
       "  'velocities': [[64816.61714725404, 15071.459891056194, 2.355375655079466]]}}"
      ]
     },
     "execution_count": 11,
     "metadata": {},
     "output_type": "execute_result"
    }
   ],
   "source": [
    "resp.json()"
   ]
  },
  {
   "cell_type": "code",
   "execution_count": 12,
   "metadata": {},
   "outputs": [],
   "source": [
    "plugin = csmapi.Plugin.findPlugin('UsgsAstroPluginCSM')\n",
    "isd = csmapi.Isd('/home/jlaura/Downloads/N1489050409_2.json')\n",
    "model_name = resp.json()['name_model']"
   ]
  },
  {
   "cell_type": "code",
   "execution_count": 15,
   "metadata": {},
   "outputs": [],
   "source": [
    "# This will fail until we have an optical distortion in the framer that supports radial models\n",
    "if plugin.canModelBeConstructedFromISD(isd, model_name):\n",
    "    model = plugin.constructModelFromISD(isd, model_name)"
   ]
  },
  {
   "cell_type": "code",
   "execution_count": 16,
   "metadata": {},
   "outputs": [
    {
     "ename": "NameError",
     "evalue": "name 'model' is not defined",
     "output_type": "error",
     "traceback": [
      "\u001b[0;31m---------------------------------------------------------------------------\u001b[0m",
      "\u001b[0;31mNameError\u001b[0m                                 Traceback (most recent call last)",
      "\u001b[0;32m<ipython-input-16-c65d63ec5ec8>\u001b[0m in \u001b[0;36m<module>\u001b[0;34m()\u001b[0m\n\u001b[0;32m----> 1\u001b[0;31m \u001b[0misize\u001b[0m \u001b[0;34m=\u001b[0m \u001b[0mmodel\u001b[0m\u001b[0;34m.\u001b[0m\u001b[0mgetImageSize\u001b[0m\u001b[0;34m(\u001b[0m\u001b[0;34m)\u001b[0m\u001b[0;34m\u001b[0m\u001b[0m\n\u001b[0m\u001b[1;32m      2\u001b[0m \u001b[0misize\u001b[0m\u001b[0;34m.\u001b[0m\u001b[0mline\u001b[0m\u001b[0;34m,\u001b[0m \u001b[0misize\u001b[0m\u001b[0;34m.\u001b[0m\u001b[0msamp\u001b[0m\u001b[0;34m\u001b[0m\u001b[0m\n",
      "\u001b[0;31mNameError\u001b[0m: name 'model' is not defined"
     ]
    }
   ],
   "source": [
    "isize = model.getImageSize()\n",
    "isize.line, isize.samp"
   ]
  },
  {
   "cell_type": "code",
   "execution_count": 9,
   "metadata": {},
   "outputs": [
    {
     "data": {
      "text/plain": [
       "(479190.5743225043, 1379557.7476122049, 1953936.8399422762)"
      ]
     },
     "execution_count": 9,
     "metadata": {},
     "output_type": "execute_result"
    }
   ],
   "source": [
    "ic = csmapi.ImageCoord(206, 206)\n",
    "gnd = model.imageToGround(ic, 0)\n",
    "gnd.x, gnd.y, gnd.z"
   ]
  },
  {
   "cell_type": "code",
   "execution_count": null,
   "metadata": {},
   "outputs": [],
   "source": []
  }
 ],
 "metadata": {
  "anaconda-cloud": {},
  "kernelspec": {
   "display_name": "Python 3",
   "language": "python",
   "name": "python3"
  }
 },
 "nbformat": 4,
 "nbformat_minor": 2
}
